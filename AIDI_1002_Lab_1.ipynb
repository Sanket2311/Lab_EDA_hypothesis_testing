{
  "nbformat": 4,
  "nbformat_minor": 0,
  "metadata": {
    "colab": {
      "name": "AIDI_1002_Lab_1 (4).ipynb",
      "provenance": [],
      "collapsed_sections": [],
      "toc_visible": true
    },
    "kernelspec": {
      "name": "python3",
      "display_name": "Python 3"
    },
    "widgets": {
      "application/vnd.jupyter.widget-state+json": {
        "9666f440e30447ab9ea05a53d6830c7f": {
          "model_module": "@jupyter-widgets/controls",
          "model_name": "HBoxModel",
          "state": {
            "_view_name": "HBoxView",
            "_dom_classes": [],
            "_model_name": "HBoxModel",
            "_view_module": "@jupyter-widgets/controls",
            "_model_module_version": "1.5.0",
            "_view_count": null,
            "_view_module_version": "1.5.0",
            "box_style": "",
            "layout": "IPY_MODEL_145d17c50e564e23b1bc86e7a7156e54",
            "_model_module": "@jupyter-widgets/controls",
            "children": [
              "IPY_MODEL_5c926e3df505425eb4bcfac45d672508",
              "IPY_MODEL_489bb533366b498daad676fed54e24b2",
              "IPY_MODEL_d970b39478df45c98faeb8c68f941a99"
            ]
          }
        },
        "145d17c50e564e23b1bc86e7a7156e54": {
          "model_module": "@jupyter-widgets/base",
          "model_name": "LayoutModel",
          "state": {
            "_view_name": "LayoutView",
            "grid_template_rows": null,
            "right": null,
            "justify_content": null,
            "_view_module": "@jupyter-widgets/base",
            "overflow": null,
            "_model_module_version": "1.2.0",
            "_view_count": null,
            "flex_flow": "row wrap",
            "width": "100%",
            "min_width": null,
            "border": null,
            "align_items": null,
            "bottom": null,
            "_model_module": "@jupyter-widgets/base",
            "top": null,
            "grid_column": null,
            "overflow_y": null,
            "overflow_x": null,
            "grid_auto_flow": null,
            "grid_area": null,
            "grid_template_columns": null,
            "flex": null,
            "_model_name": "LayoutModel",
            "justify_items": null,
            "grid_row": null,
            "max_height": null,
            "align_content": null,
            "visibility": null,
            "align_self": null,
            "height": null,
            "min_height": null,
            "padding": null,
            "grid_auto_rows": null,
            "grid_gap": null,
            "max_width": null,
            "order": null,
            "_view_module_version": "1.2.0",
            "grid_template_areas": null,
            "object_position": null,
            "object_fit": null,
            "grid_auto_columns": null,
            "margin": null,
            "display": "inline-flex",
            "left": null
          }
        },
        "5c926e3df505425eb4bcfac45d672508": {
          "model_module": "@jupyter-widgets/controls",
          "model_name": "HTMLModel",
          "state": {
            "_view_name": "HTMLView",
            "style": "IPY_MODEL_f330bf1ee8c7432ebc0e8b4e58b8551e",
            "_dom_classes": [],
            "description": "",
            "_model_name": "HTMLModel",
            "placeholder": "​",
            "_view_module": "@jupyter-widgets/controls",
            "_model_module_version": "1.5.0",
            "value": "Done! Use &#x27;show&#x27; commands to display/save.   ",
            "_view_count": null,
            "_view_module_version": "1.5.0",
            "description_tooltip": null,
            "_model_module": "@jupyter-widgets/controls",
            "layout": "IPY_MODEL_53075d7ddf5c44eeb95a69339294bde0"
          }
        },
        "489bb533366b498daad676fed54e24b2": {
          "model_module": "@jupyter-widgets/controls",
          "model_name": "FloatProgressModel",
          "state": {
            "_view_name": "ProgressView",
            "style": "IPY_MODEL_28b519a7dd8e49e4bcc12205faff171c",
            "_dom_classes": [],
            "description": "",
            "_model_name": "FloatProgressModel",
            "bar_style": "success",
            "max": 1,
            "_view_module": "@jupyter-widgets/controls",
            "_model_module_version": "1.5.0",
            "value": 1,
            "_view_count": null,
            "_view_module_version": "1.5.0",
            "orientation": "horizontal",
            "min": 0,
            "description_tooltip": null,
            "_model_module": "@jupyter-widgets/controls",
            "layout": "IPY_MODEL_a0856499f68a4febad8b1d425c0cffa6"
          }
        },
        "d970b39478df45c98faeb8c68f941a99": {
          "model_module": "@jupyter-widgets/controls",
          "model_name": "HTMLModel",
          "state": {
            "_view_name": "HTMLView",
            "style": "IPY_MODEL_ebb49a9c188645b791ee675284556245",
            "_dom_classes": [],
            "description": "",
            "_model_name": "HTMLModel",
            "placeholder": "​",
            "_view_module": "@jupyter-widgets/controls",
            "_model_module_version": "1.5.0",
            "value": " [100%]   00:00 -&gt; (00:00 left)",
            "_view_count": null,
            "_view_module_version": "1.5.0",
            "description_tooltip": null,
            "_model_module": "@jupyter-widgets/controls",
            "layout": "IPY_MODEL_9dced0277a5549db8b87d686616baae2"
          }
        },
        "f330bf1ee8c7432ebc0e8b4e58b8551e": {
          "model_module": "@jupyter-widgets/controls",
          "model_name": "DescriptionStyleModel",
          "state": {
            "_view_name": "StyleView",
            "_model_name": "DescriptionStyleModel",
            "description_width": "",
            "_view_module": "@jupyter-widgets/base",
            "_model_module_version": "1.5.0",
            "_view_count": null,
            "_view_module_version": "1.2.0",
            "_model_module": "@jupyter-widgets/controls"
          }
        },
        "53075d7ddf5c44eeb95a69339294bde0": {
          "model_module": "@jupyter-widgets/base",
          "model_name": "LayoutModel",
          "state": {
            "_view_name": "LayoutView",
            "grid_template_rows": null,
            "right": null,
            "justify_content": null,
            "_view_module": "@jupyter-widgets/base",
            "overflow": null,
            "_model_module_version": "1.2.0",
            "_view_count": null,
            "flex_flow": null,
            "width": null,
            "min_width": null,
            "border": null,
            "align_items": null,
            "bottom": null,
            "_model_module": "@jupyter-widgets/base",
            "top": null,
            "grid_column": null,
            "overflow_y": null,
            "overflow_x": null,
            "grid_auto_flow": null,
            "grid_area": null,
            "grid_template_columns": null,
            "flex": null,
            "_model_name": "LayoutModel",
            "justify_items": null,
            "grid_row": null,
            "max_height": null,
            "align_content": null,
            "visibility": null,
            "align_self": null,
            "height": null,
            "min_height": null,
            "padding": null,
            "grid_auto_rows": null,
            "grid_gap": null,
            "max_width": null,
            "order": null,
            "_view_module_version": "1.2.0",
            "grid_template_areas": null,
            "object_position": null,
            "object_fit": null,
            "grid_auto_columns": null,
            "margin": null,
            "display": null,
            "left": null
          }
        },
        "28b519a7dd8e49e4bcc12205faff171c": {
          "model_module": "@jupyter-widgets/controls",
          "model_name": "ProgressStyleModel",
          "state": {
            "_view_name": "StyleView",
            "_model_name": "ProgressStyleModel",
            "description_width": "",
            "_view_module": "@jupyter-widgets/base",
            "_model_module_version": "1.5.0",
            "_view_count": null,
            "_view_module_version": "1.2.0",
            "bar_color": null,
            "_model_module": "@jupyter-widgets/controls"
          }
        },
        "a0856499f68a4febad8b1d425c0cffa6": {
          "model_module": "@jupyter-widgets/base",
          "model_name": "LayoutModel",
          "state": {
            "_view_name": "LayoutView",
            "grid_template_rows": null,
            "right": null,
            "justify_content": null,
            "_view_module": "@jupyter-widgets/base",
            "overflow": null,
            "_model_module_version": "1.2.0",
            "_view_count": null,
            "flex_flow": null,
            "width": null,
            "min_width": null,
            "border": null,
            "align_items": null,
            "bottom": null,
            "_model_module": "@jupyter-widgets/base",
            "top": null,
            "grid_column": null,
            "overflow_y": null,
            "overflow_x": null,
            "grid_auto_flow": null,
            "grid_area": null,
            "grid_template_columns": null,
            "flex": "2",
            "_model_name": "LayoutModel",
            "justify_items": null,
            "grid_row": null,
            "max_height": null,
            "align_content": null,
            "visibility": null,
            "align_self": null,
            "height": null,
            "min_height": null,
            "padding": null,
            "grid_auto_rows": null,
            "grid_gap": null,
            "max_width": null,
            "order": null,
            "_view_module_version": "1.2.0",
            "grid_template_areas": null,
            "object_position": null,
            "object_fit": null,
            "grid_auto_columns": null,
            "margin": null,
            "display": null,
            "left": null
          }
        },
        "ebb49a9c188645b791ee675284556245": {
          "model_module": "@jupyter-widgets/controls",
          "model_name": "DescriptionStyleModel",
          "state": {
            "_view_name": "StyleView",
            "_model_name": "DescriptionStyleModel",
            "description_width": "",
            "_view_module": "@jupyter-widgets/base",
            "_model_module_version": "1.5.0",
            "_view_count": null,
            "_view_module_version": "1.2.0",
            "_model_module": "@jupyter-widgets/controls"
          }
        },
        "9dced0277a5549db8b87d686616baae2": {
          "model_module": "@jupyter-widgets/base",
          "model_name": "LayoutModel",
          "state": {
            "_view_name": "LayoutView",
            "grid_template_rows": null,
            "right": null,
            "justify_content": null,
            "_view_module": "@jupyter-widgets/base",
            "overflow": null,
            "_model_module_version": "1.2.0",
            "_view_count": null,
            "flex_flow": null,
            "width": null,
            "min_width": null,
            "border": null,
            "align_items": null,
            "bottom": null,
            "_model_module": "@jupyter-widgets/base",
            "top": null,
            "grid_column": null,
            "overflow_y": null,
            "overflow_x": null,
            "grid_auto_flow": null,
            "grid_area": null,
            "grid_template_columns": null,
            "flex": null,
            "_model_name": "LayoutModel",
            "justify_items": null,
            "grid_row": null,
            "max_height": null,
            "align_content": null,
            "visibility": null,
            "align_self": null,
            "height": null,
            "min_height": null,
            "padding": null,
            "grid_auto_rows": null,
            "grid_gap": null,
            "max_width": null,
            "order": null,
            "_view_module_version": "1.2.0",
            "grid_template_areas": null,
            "object_position": null,
            "object_fit": null,
            "grid_auto_columns": null,
            "margin": null,
            "display": null,
            "left": null
          }
        }
      }
    }
  },
  "cells": [
    {
      "cell_type": "markdown",
      "metadata": {
        "id": "bHaUxXaf-xe7"
      },
      "source": [
        "# Task 1\n",
        "### Create a Jupyter Notebook to present your analysis and perform an exploratory data analysis (EDA) on flights.csv file."
      ]
    },
    {
      "cell_type": "code",
      "metadata": {
        "id": "_COldNG4C8h6",
        "colab": {
          "base_uri": "https://localhost:8080/"
        },
        "outputId": "089e3b15-a979-4fc0-b541-82225b89e29f"
      },
      "source": [
        "!pip install sweetviz"
      ],
      "execution_count": null,
      "outputs": [
        {
          "output_type": "stream",
          "text": [
            "Requirement already satisfied: sweetviz in /usr/local/lib/python3.6/dist-packages (2.0.6)\n",
            "Requirement already satisfied: pandas!=1.0.0,!=1.0.1,!=1.0.2,>=0.25.3 in /usr/local/lib/python3.6/dist-packages (from sweetviz) (1.1.5)\n",
            "Requirement already satisfied: numpy>=1.16.0 in /usr/local/lib/python3.6/dist-packages (from sweetviz) (1.19.5)\n",
            "Requirement already satisfied: tqdm>=4.43.0 in /usr/local/lib/python3.6/dist-packages (from sweetviz) (4.56.2)\n",
            "Requirement already satisfied: matplotlib>=3.1.3 in /usr/local/lib/python3.6/dist-packages (from sweetviz) (3.2.2)\n",
            "Requirement already satisfied: scipy>=1.3.2 in /usr/local/lib/python3.6/dist-packages (from sweetviz) (1.4.1)\n",
            "Requirement already satisfied: jinja2>=2.11.1 in /usr/local/lib/python3.6/dist-packages (from sweetviz) (2.11.3)\n",
            "Requirement already satisfied: importlib-resources>=1.2.0 in /usr/local/lib/python3.6/dist-packages (from sweetviz) (5.1.0)\n",
            "Requirement already satisfied: pytz>=2017.2 in /usr/local/lib/python3.6/dist-packages (from pandas!=1.0.0,!=1.0.1,!=1.0.2,>=0.25.3->sweetviz) (2018.9)\n",
            "Requirement already satisfied: python-dateutil>=2.7.3 in /usr/local/lib/python3.6/dist-packages (from pandas!=1.0.0,!=1.0.1,!=1.0.2,>=0.25.3->sweetviz) (2.8.1)\n",
            "Requirement already satisfied: kiwisolver>=1.0.1 in /usr/local/lib/python3.6/dist-packages (from matplotlib>=3.1.3->sweetviz) (1.3.1)\n",
            "Requirement already satisfied: cycler>=0.10 in /usr/local/lib/python3.6/dist-packages (from matplotlib>=3.1.3->sweetviz) (0.10.0)\n",
            "Requirement already satisfied: pyparsing!=2.0.4,!=2.1.2,!=2.1.6,>=2.0.1 in /usr/local/lib/python3.6/dist-packages (from matplotlib>=3.1.3->sweetviz) (2.4.7)\n",
            "Requirement already satisfied: MarkupSafe>=0.23 in /usr/local/lib/python3.6/dist-packages (from jinja2>=2.11.1->sweetviz) (1.1.1)\n",
            "Requirement already satisfied: zipp>=0.4; python_version < \"3.8\" in /usr/local/lib/python3.6/dist-packages (from importlib-resources>=1.2.0->sweetviz) (3.4.0)\n",
            "Requirement already satisfied: six>=1.5 in /usr/local/lib/python3.6/dist-packages (from python-dateutil>=2.7.3->pandas!=1.0.0,!=1.0.1,!=1.0.2,>=0.25.3->sweetviz) (1.15.0)\n"
          ],
          "name": "stdout"
        }
      ]
    },
    {
      "cell_type": "code",
      "metadata": {
        "id": "WcrMqNR492Bi"
      },
      "source": [
        "# Importing necessary libraries\n",
        "\n",
        "import numpy as np\n",
        "import pandas as pd\n",
        "import matplotlib.pyplot as plt\n",
        "%matplotlib inline\n",
        "import seaborn as sns\n",
        "import numpy as np\n",
        "from scipy import stats\n",
        "import sweetviz as sv"
      ],
      "execution_count": null,
      "outputs": []
    },
    {
      "cell_type": "code",
      "metadata": {
        "id": "VYrEJ_Eu99Ev"
      },
      "source": [
        "# Importing dataset into dataframe called df\n",
        "df= pd.read_csv(\"/content/flights.csv\")"
      ],
      "execution_count": null,
      "outputs": []
    },
    {
      "cell_type": "code",
      "metadata": {
        "id": "DNwtyPu9-LRj",
        "colab": {
          "base_uri": "https://localhost:8080/",
          "height": 299
        },
        "outputId": "c5c96795-f917-40cb-f979-4652e0210cd9"
      },
      "source": [
        "# Having an initial look at dataset\n",
        "df.head()"
      ],
      "execution_count": null,
      "outputs": [
        {
          "output_type": "execute_result",
          "data": {
            "text/html": [
              "<div>\n",
              "<style scoped>\n",
              "    .dataframe tbody tr th:only-of-type {\n",
              "        vertical-align: middle;\n",
              "    }\n",
              "\n",
              "    .dataframe tbody tr th {\n",
              "        vertical-align: top;\n",
              "    }\n",
              "\n",
              "    .dataframe thead th {\n",
              "        text-align: right;\n",
              "    }\n",
              "</style>\n",
              "<table border=\"1\" class=\"dataframe\">\n",
              "  <thead>\n",
              "    <tr style=\"text-align: right;\">\n",
              "      <th></th>\n",
              "      <th>year</th>\n",
              "      <th>month</th>\n",
              "      <th>day</th>\n",
              "      <th>dep_time</th>\n",
              "      <th>sched_dep_time</th>\n",
              "      <th>dep_delay</th>\n",
              "      <th>arr_time</th>\n",
              "      <th>sched_arr_time</th>\n",
              "      <th>arr_delay</th>\n",
              "      <th>carrier</th>\n",
              "      <th>flight</th>\n",
              "      <th>tailnum</th>\n",
              "      <th>origin</th>\n",
              "      <th>dest</th>\n",
              "      <th>air_time</th>\n",
              "      <th>distance</th>\n",
              "      <th>hour</th>\n",
              "      <th>minute</th>\n",
              "      <th>time_hour</th>\n",
              "    </tr>\n",
              "  </thead>\n",
              "  <tbody>\n",
              "    <tr>\n",
              "      <th>0</th>\n",
              "      <td>2013</td>\n",
              "      <td>1</td>\n",
              "      <td>1</td>\n",
              "      <td>517.0</td>\n",
              "      <td>515</td>\n",
              "      <td>2.0</td>\n",
              "      <td>830.0</td>\n",
              "      <td>819</td>\n",
              "      <td>11.0</td>\n",
              "      <td>UA</td>\n",
              "      <td>1545</td>\n",
              "      <td>N14228</td>\n",
              "      <td>EWR</td>\n",
              "      <td>IAH</td>\n",
              "      <td>227.0</td>\n",
              "      <td>1400</td>\n",
              "      <td>5</td>\n",
              "      <td>15</td>\n",
              "      <td>2013-01-01T05:00:00Z</td>\n",
              "    </tr>\n",
              "    <tr>\n",
              "      <th>1</th>\n",
              "      <td>2013</td>\n",
              "      <td>1</td>\n",
              "      <td>1</td>\n",
              "      <td>533.0</td>\n",
              "      <td>529</td>\n",
              "      <td>4.0</td>\n",
              "      <td>850.0</td>\n",
              "      <td>830</td>\n",
              "      <td>20.0</td>\n",
              "      <td>UA</td>\n",
              "      <td>1714</td>\n",
              "      <td>N24211</td>\n",
              "      <td>LGA</td>\n",
              "      <td>IAH</td>\n",
              "      <td>227.0</td>\n",
              "      <td>1416</td>\n",
              "      <td>5</td>\n",
              "      <td>29</td>\n",
              "      <td>2013-01-01T05:00:00Z</td>\n",
              "    </tr>\n",
              "    <tr>\n",
              "      <th>2</th>\n",
              "      <td>2013</td>\n",
              "      <td>1</td>\n",
              "      <td>1</td>\n",
              "      <td>542.0</td>\n",
              "      <td>540</td>\n",
              "      <td>2.0</td>\n",
              "      <td>923.0</td>\n",
              "      <td>850</td>\n",
              "      <td>33.0</td>\n",
              "      <td>AA</td>\n",
              "      <td>1141</td>\n",
              "      <td>N619AA</td>\n",
              "      <td>JFK</td>\n",
              "      <td>MIA</td>\n",
              "      <td>160.0</td>\n",
              "      <td>1089</td>\n",
              "      <td>5</td>\n",
              "      <td>40</td>\n",
              "      <td>2013-01-01T05:00:00Z</td>\n",
              "    </tr>\n",
              "    <tr>\n",
              "      <th>3</th>\n",
              "      <td>2013</td>\n",
              "      <td>1</td>\n",
              "      <td>1</td>\n",
              "      <td>544.0</td>\n",
              "      <td>545</td>\n",
              "      <td>-1.0</td>\n",
              "      <td>1004.0</td>\n",
              "      <td>1022</td>\n",
              "      <td>-18.0</td>\n",
              "      <td>B6</td>\n",
              "      <td>725</td>\n",
              "      <td>N804JB</td>\n",
              "      <td>JFK</td>\n",
              "      <td>BQN</td>\n",
              "      <td>183.0</td>\n",
              "      <td>1576</td>\n",
              "      <td>5</td>\n",
              "      <td>45</td>\n",
              "      <td>2013-01-01T05:00:00Z</td>\n",
              "    </tr>\n",
              "    <tr>\n",
              "      <th>4</th>\n",
              "      <td>2013</td>\n",
              "      <td>1</td>\n",
              "      <td>1</td>\n",
              "      <td>554.0</td>\n",
              "      <td>600</td>\n",
              "      <td>-6.0</td>\n",
              "      <td>812.0</td>\n",
              "      <td>837</td>\n",
              "      <td>-25.0</td>\n",
              "      <td>DL</td>\n",
              "      <td>461</td>\n",
              "      <td>N668DN</td>\n",
              "      <td>LGA</td>\n",
              "      <td>ATL</td>\n",
              "      <td>116.0</td>\n",
              "      <td>762</td>\n",
              "      <td>6</td>\n",
              "      <td>0</td>\n",
              "      <td>2013-01-01T06:00:00Z</td>\n",
              "    </tr>\n",
              "  </tbody>\n",
              "</table>\n",
              "</div>"
            ],
            "text/plain": [
              "   year  month  day  dep_time  ...  distance  hour  minute             time_hour\n",
              "0  2013      1    1     517.0  ...      1400     5      15  2013-01-01T05:00:00Z\n",
              "1  2013      1    1     533.0  ...      1416     5      29  2013-01-01T05:00:00Z\n",
              "2  2013      1    1     542.0  ...      1089     5      40  2013-01-01T05:00:00Z\n",
              "3  2013      1    1     544.0  ...      1576     5      45  2013-01-01T05:00:00Z\n",
              "4  2013      1    1     554.0  ...       762     6       0  2013-01-01T06:00:00Z\n",
              "\n",
              "[5 rows x 19 columns]"
            ]
          },
          "metadata": {
            "tags": []
          },
          "execution_count": 4
        }
      ]
    },
    {
      "cell_type": "code",
      "metadata": {
        "id": "6Ug2tHpXCgHc",
        "colab": {
          "base_uri": "https://localhost:8080/"
        },
        "outputId": "e5f6d751-de96-4c4d-d8fa-3563ee444aa1"
      },
      "source": [
        "# Looking at column names\n",
        "df.columns"
      ],
      "execution_count": null,
      "outputs": [
        {
          "output_type": "execute_result",
          "data": {
            "text/plain": [
              "Index(['year', 'month', 'day', 'dep_time', 'sched_dep_time', 'dep_delay',\n",
              "       'arr_time', 'sched_arr_time', 'arr_delay', 'carrier', 'flight',\n",
              "       'tailnum', 'origin', 'dest', 'air_time', 'distance', 'hour', 'minute',\n",
              "       'time_hour'],\n",
              "      dtype='object')"
            ]
          },
          "metadata": {
            "tags": []
          },
          "execution_count": 5
        }
      ]
    },
    {
      "cell_type": "code",
      "metadata": {
        "id": "JbWG-Y89-Mmu",
        "colab": {
          "base_uri": "https://localhost:8080/",
          "height": 304
        },
        "outputId": "2df57d9d-73aa-48b3-f85c-a87a40c2231b"
      },
      "source": [
        "# Checking the overall distriution of data\n",
        "df.describe()"
      ],
      "execution_count": null,
      "outputs": [
        {
          "output_type": "execute_result",
          "data": {
            "text/html": [
              "<div>\n",
              "<style scoped>\n",
              "    .dataframe tbody tr th:only-of-type {\n",
              "        vertical-align: middle;\n",
              "    }\n",
              "\n",
              "    .dataframe tbody tr th {\n",
              "        vertical-align: top;\n",
              "    }\n",
              "\n",
              "    .dataframe thead th {\n",
              "        text-align: right;\n",
              "    }\n",
              "</style>\n",
              "<table border=\"1\" class=\"dataframe\">\n",
              "  <thead>\n",
              "    <tr style=\"text-align: right;\">\n",
              "      <th></th>\n",
              "      <th>year</th>\n",
              "      <th>month</th>\n",
              "      <th>day</th>\n",
              "      <th>dep_time</th>\n",
              "      <th>sched_dep_time</th>\n",
              "      <th>dep_delay</th>\n",
              "      <th>arr_time</th>\n",
              "      <th>sched_arr_time</th>\n",
              "      <th>arr_delay</th>\n",
              "      <th>flight</th>\n",
              "      <th>air_time</th>\n",
              "      <th>distance</th>\n",
              "      <th>hour</th>\n",
              "      <th>minute</th>\n",
              "    </tr>\n",
              "  </thead>\n",
              "  <tbody>\n",
              "    <tr>\n",
              "      <th>count</th>\n",
              "      <td>336776.0</td>\n",
              "      <td>336776.000000</td>\n",
              "      <td>336776.000000</td>\n",
              "      <td>328521.000000</td>\n",
              "      <td>336776.000000</td>\n",
              "      <td>328521.000000</td>\n",
              "      <td>328063.000000</td>\n",
              "      <td>336776.000000</td>\n",
              "      <td>327346.000000</td>\n",
              "      <td>336776.000000</td>\n",
              "      <td>327346.000000</td>\n",
              "      <td>336776.000000</td>\n",
              "      <td>336776.000000</td>\n",
              "      <td>336776.000000</td>\n",
              "    </tr>\n",
              "    <tr>\n",
              "      <th>mean</th>\n",
              "      <td>2013.0</td>\n",
              "      <td>6.548510</td>\n",
              "      <td>15.710787</td>\n",
              "      <td>1349.109947</td>\n",
              "      <td>1344.254840</td>\n",
              "      <td>12.639070</td>\n",
              "      <td>1502.054999</td>\n",
              "      <td>1536.380220</td>\n",
              "      <td>6.895377</td>\n",
              "      <td>1971.923620</td>\n",
              "      <td>150.686460</td>\n",
              "      <td>1039.912604</td>\n",
              "      <td>13.180247</td>\n",
              "      <td>26.230100</td>\n",
              "    </tr>\n",
              "    <tr>\n",
              "      <th>std</th>\n",
              "      <td>0.0</td>\n",
              "      <td>3.414457</td>\n",
              "      <td>8.768607</td>\n",
              "      <td>488.281791</td>\n",
              "      <td>467.335756</td>\n",
              "      <td>40.210061</td>\n",
              "      <td>533.264132</td>\n",
              "      <td>497.457142</td>\n",
              "      <td>44.633292</td>\n",
              "      <td>1632.471938</td>\n",
              "      <td>93.688305</td>\n",
              "      <td>733.233033</td>\n",
              "      <td>4.661316</td>\n",
              "      <td>19.300846</td>\n",
              "    </tr>\n",
              "    <tr>\n",
              "      <th>min</th>\n",
              "      <td>2013.0</td>\n",
              "      <td>1.000000</td>\n",
              "      <td>1.000000</td>\n",
              "      <td>1.000000</td>\n",
              "      <td>106.000000</td>\n",
              "      <td>-43.000000</td>\n",
              "      <td>1.000000</td>\n",
              "      <td>1.000000</td>\n",
              "      <td>-86.000000</td>\n",
              "      <td>1.000000</td>\n",
              "      <td>20.000000</td>\n",
              "      <td>17.000000</td>\n",
              "      <td>1.000000</td>\n",
              "      <td>0.000000</td>\n",
              "    </tr>\n",
              "    <tr>\n",
              "      <th>25%</th>\n",
              "      <td>2013.0</td>\n",
              "      <td>4.000000</td>\n",
              "      <td>8.000000</td>\n",
              "      <td>907.000000</td>\n",
              "      <td>906.000000</td>\n",
              "      <td>-5.000000</td>\n",
              "      <td>1104.000000</td>\n",
              "      <td>1124.000000</td>\n",
              "      <td>-17.000000</td>\n",
              "      <td>553.000000</td>\n",
              "      <td>82.000000</td>\n",
              "      <td>502.000000</td>\n",
              "      <td>9.000000</td>\n",
              "      <td>8.000000</td>\n",
              "    </tr>\n",
              "    <tr>\n",
              "      <th>50%</th>\n",
              "      <td>2013.0</td>\n",
              "      <td>7.000000</td>\n",
              "      <td>16.000000</td>\n",
              "      <td>1401.000000</td>\n",
              "      <td>1359.000000</td>\n",
              "      <td>-2.000000</td>\n",
              "      <td>1535.000000</td>\n",
              "      <td>1556.000000</td>\n",
              "      <td>-5.000000</td>\n",
              "      <td>1496.000000</td>\n",
              "      <td>129.000000</td>\n",
              "      <td>872.000000</td>\n",
              "      <td>13.000000</td>\n",
              "      <td>29.000000</td>\n",
              "    </tr>\n",
              "    <tr>\n",
              "      <th>75%</th>\n",
              "      <td>2013.0</td>\n",
              "      <td>10.000000</td>\n",
              "      <td>23.000000</td>\n",
              "      <td>1744.000000</td>\n",
              "      <td>1729.000000</td>\n",
              "      <td>11.000000</td>\n",
              "      <td>1940.000000</td>\n",
              "      <td>1945.000000</td>\n",
              "      <td>14.000000</td>\n",
              "      <td>3465.000000</td>\n",
              "      <td>192.000000</td>\n",
              "      <td>1389.000000</td>\n",
              "      <td>17.000000</td>\n",
              "      <td>44.000000</td>\n",
              "    </tr>\n",
              "    <tr>\n",
              "      <th>max</th>\n",
              "      <td>2013.0</td>\n",
              "      <td>12.000000</td>\n",
              "      <td>31.000000</td>\n",
              "      <td>2400.000000</td>\n",
              "      <td>2359.000000</td>\n",
              "      <td>1301.000000</td>\n",
              "      <td>2400.000000</td>\n",
              "      <td>2359.000000</td>\n",
              "      <td>1272.000000</td>\n",
              "      <td>8500.000000</td>\n",
              "      <td>695.000000</td>\n",
              "      <td>4983.000000</td>\n",
              "      <td>23.000000</td>\n",
              "      <td>59.000000</td>\n",
              "    </tr>\n",
              "  </tbody>\n",
              "</table>\n",
              "</div>"
            ],
            "text/plain": [
              "           year          month  ...           hour         minute\n",
              "count  336776.0  336776.000000  ...  336776.000000  336776.000000\n",
              "mean     2013.0       6.548510  ...      13.180247      26.230100\n",
              "std         0.0       3.414457  ...       4.661316      19.300846\n",
              "min      2013.0       1.000000  ...       1.000000       0.000000\n",
              "25%      2013.0       4.000000  ...       9.000000       8.000000\n",
              "50%      2013.0       7.000000  ...      13.000000      29.000000\n",
              "75%      2013.0      10.000000  ...      17.000000      44.000000\n",
              "max      2013.0      12.000000  ...      23.000000      59.000000\n",
              "\n",
              "[8 rows x 14 columns]"
            ]
          },
          "metadata": {
            "tags": []
          },
          "execution_count": 6
        }
      ]
    },
    {
      "cell_type": "code",
      "metadata": {
        "id": "7d0Xrmjy-PkZ",
        "colab": {
          "base_uri": "https://localhost:8080/"
        },
        "outputId": "1443856d-d7cf-47bf-a58f-de8fc72527c8"
      },
      "source": [
        "# Information about each variable, length and datatyes. \n",
        "df.info()"
      ],
      "execution_count": null,
      "outputs": [
        {
          "output_type": "stream",
          "text": [
            "<class 'pandas.core.frame.DataFrame'>\n",
            "RangeIndex: 336776 entries, 0 to 336775\n",
            "Data columns (total 19 columns):\n",
            " #   Column          Non-Null Count   Dtype  \n",
            "---  ------          --------------   -----  \n",
            " 0   year            336776 non-null  int64  \n",
            " 1   month           336776 non-null  int64  \n",
            " 2   day             336776 non-null  int64  \n",
            " 3   dep_time        328521 non-null  float64\n",
            " 4   sched_dep_time  336776 non-null  int64  \n",
            " 5   dep_delay       328521 non-null  float64\n",
            " 6   arr_time        328063 non-null  float64\n",
            " 7   sched_arr_time  336776 non-null  int64  \n",
            " 8   arr_delay       327346 non-null  float64\n",
            " 9   carrier         336776 non-null  object \n",
            " 10  flight          336776 non-null  int64  \n",
            " 11  tailnum         334264 non-null  object \n",
            " 12  origin          336776 non-null  object \n",
            " 13  dest            336776 non-null  object \n",
            " 14  air_time        327346 non-null  float64\n",
            " 15  distance        336776 non-null  int64  \n",
            " 16  hour            336776 non-null  int64  \n",
            " 17  minute          336776 non-null  int64  \n",
            " 18  time_hour       336776 non-null  object \n",
            "dtypes: float64(5), int64(9), object(5)\n",
            "memory usage: 48.8+ MB\n"
          ],
          "name": "stdout"
        }
      ]
    },
    {
      "cell_type": "code",
      "metadata": {
        "id": "5nZjbWuG-XEw",
        "colab": {
          "base_uri": "https://localhost:8080/"
        },
        "outputId": "0075612f-4013-4578-c0f1-6e6ec2c2dfcf"
      },
      "source": [
        "# Checking missing values\n",
        "df.isna().sum()"
      ],
      "execution_count": null,
      "outputs": [
        {
          "output_type": "execute_result",
          "data": {
            "text/plain": [
              "year                 0\n",
              "month                0\n",
              "day                  0\n",
              "dep_time          8255\n",
              "sched_dep_time       0\n",
              "dep_delay         8255\n",
              "arr_time          8713\n",
              "sched_arr_time       0\n",
              "arr_delay         9430\n",
              "carrier              0\n",
              "flight               0\n",
              "tailnum           2512\n",
              "origin               0\n",
              "dest                 0\n",
              "air_time          9430\n",
              "distance             0\n",
              "hour                 0\n",
              "minute               0\n",
              "time_hour            0\n",
              "dtype: int64"
            ]
          },
          "metadata": {
            "tags": []
          },
          "execution_count": 8
        }
      ]
    },
    {
      "cell_type": "code",
      "metadata": {
        "id": "xkcXNQ_vHVJg"
      },
      "source": [
        "# Dropping all the rows with any missing values.\n",
        "df.dropna(inplace=True)"
      ],
      "execution_count": null,
      "outputs": []
    },
    {
      "cell_type": "markdown",
      "metadata": {
        "id": "ejPaZASM_G_z"
      },
      "source": [
        "# Task-2\n",
        "\n",
        "### Create at least 5 different views (reports) to the team using the imported dataset. The reports should be composed of a description, charts and tables based on some selected columns. These reports can give some insights to the team about the airport operation and potential optimizations."
      ]
    },
    {
      "cell_type": "markdown",
      "metadata": {
        "id": "kfT88G9GEFeD"
      },
      "source": [
        "#### Univariate analysis:"
      ]
    },
    {
      "cell_type": "code",
      "metadata": {
        "id": "bBsgMADZDIgd",
        "colab": {
          "base_uri": "https://localhost:8080/",
          "height": 49,
          "referenced_widgets": [
            "9666f440e30447ab9ea05a53d6830c7f",
            "145d17c50e564e23b1bc86e7a7156e54",
            "5c926e3df505425eb4bcfac45d672508",
            "489bb533366b498daad676fed54e24b2",
            "d970b39478df45c98faeb8c68f941a99",
            "f330bf1ee8c7432ebc0e8b4e58b8551e",
            "53075d7ddf5c44eeb95a69339294bde0",
            "28b519a7dd8e49e4bcc12205faff171c",
            "a0856499f68a4febad8b1d425c0cffa6",
            "ebb49a9c188645b791ee675284556245",
            "9dced0277a5549db8b87d686616baae2"
          ]
        },
        "outputId": "284dab4c-810a-446e-98ce-9fbdc96302cb"
      },
      "source": [
        "report = sv.analyze(df)"
      ],
      "execution_count": null,
      "outputs": [
        {
          "output_type": "display_data",
          "data": {
            "application/vnd.jupyter.widget-view+json": {
              "model_id": "9666f440e30447ab9ea05a53d6830c7f",
              "version_minor": 0,
              "version_major": 2
            },
            "text/plain": [
              "                                             |          | [  0%]   00:00 -> (? left)"
            ]
          },
          "metadata": {
            "tags": []
          }
        }
      ]
    },
    {
      "cell_type": "code",
      "metadata": {
        "id": "_h08I4-1DVRK",
        "colab": {
          "base_uri": "https://localhost:8080/"
        },
        "outputId": "36fe0c5a-aed5-40e0-c7d7-ce0a4b211089"
      },
      "source": [
        "report.show_html()"
      ],
      "execution_count": null,
      "outputs": [
        {
          "output_type": "stream",
          "text": [
            "Report SWEETVIZ_REPORT.html was generated! NOTEBOOK/COLAB USERS: the web browser MAY not pop up, regardless, the report IS saved in your notebook/colab files.\n"
          ],
          "name": "stdout"
        }
      ]
    },
    {
      "cell_type": "code",
      "metadata": {
        "id": "zE5hlns3Vms9",
        "colab": {
          "base_uri": "https://localhost:8080/",
          "height": 680
        },
        "outputId": "3af175e6-a6d6-4368-95ca-dee480d77ca6"
      },
      "source": [
        "# Plotting the distribution of total airtime for all the flights\n",
        "\n",
        "plt.figure(figsize=(12,8))\n",
        "plt.hist(df[\"air_time\"])\n",
        "plt.xlabel(\"Air time\")\n",
        "plt.ylabel(\"Count\")\n",
        "plt.show()"
      ],
      "execution_count": null,
      "outputs": [
        {
          "output_type": "display_data",
          "data": {
            "image/png": "[encoded data removed]",
            "text/plain": [
              "<Figure size 1200x800 with 1 Axes>"
            ]
          },
          "metadata": {
            "tags": []
          }
        }
      ]
    },
    {
      "cell_type": "markdown",
      "metadata": {
        "id": "XrgjBiLxEjzl"
      },
      "source": [
        "*   As seen in sweetviz report and histogram, airtime shows a skewed distribution with most flights taking approximately between 40 and 339 minutes.\n",
        "*   Flights cover between 200 to 2475 kms and follow unimodal right-skewed distribution. \n",
        "*  Top destinations ATL, ORD, LAX, BOS, MCO, CLT and SFO represent highly operational destinations covering 32% of total flights.\n",
        "*   Departure and arrival delays graphs show highly skewed distributions with  average delays of 13 and 7 minutes respectively. So, in general, fights don't get delayed by a significant margin.\n",
        "\n",
        "\n",
        "\n",
        "\n",
        "\n",
        "\n",
        "\n"
      ]
    },
    {
      "cell_type": "markdown",
      "metadata": {
        "id": "wOjp3gkVEPOv"
      },
      "source": [
        "##### Multivariate and bivariate analysis:"
      ]
    },
    {
      "cell_type": "code",
      "metadata": {
        "id": "GTnF1c9C-oMe",
        "colab": {
          "base_uri": "https://localhost:8080/",
          "height": 735
        },
        "outputId": "b7057682-5987-4dbd-fa7f-edafd8c91cc2"
      },
      "source": [
        "# Plotting relationships between all the variables to get inights of correlation.\n",
        "\n",
        "plt.figure(figsize=(12,8))\n",
        "sns.heatmap(df.corr(),annot=True,linewidth=0.5,cmap=\"coolwarm\")\n",
        "plt.show()"
      ],
      "execution_count": null,
      "outputs": [
        {
          "output_type": "display_data",
          "data": {
            "image/png": "[encoded data removed]",
            "text/plain": [
              "<Figure size 1200x800 with 2 Axes>"
            ]
          },
          "metadata": {
            "tags": []
          }
        }
      ]
    },
    {
      "cell_type": "markdown",
      "metadata": {
        "id": "sWGIEPunB6_d"
      },
      "source": [
        "* Heatmap shows that scheduled departure time and departure times are highly correlated. This adds to the previous point that, delays are generally consistent in the flights with respect to departure times.\n",
        "\n"
      ]
    },
    {
      "cell_type": "code",
      "metadata": {
        "id": "BUKo5HGZ_dxE",
        "colab": {
          "base_uri": "https://localhost:8080/",
          "height": 657
        },
        "outputId": "f21f8d78-be41-4755-93a7-eaa390268f72"
      },
      "source": [
        "# Percentage of flights in the dataset\n",
        "\n",
        "plt.figure(figsize=(12,8))\n",
        "plt.pie(df.carrier.value_counts(),autopct=\"%.2f%%\",labels=df.carrier.value_counts().index,labeldistance=.8,pctdistance=1.1,shadow=True, explode=(0, 0, 0, 0.1,0,0,0,0,0,0,0,0,0,0,0,0))\n",
        "plt.plot()"
      ],
      "execution_count": null,
      "outputs": [
        {
          "output_type": "execute_result",
          "data": {
            "text/plain": [
              "[]"
            ]
          },
          "metadata": {
            "tags": []
          },
          "execution_count": 14
        },
        {
          "output_type": "display_data",
          "data": {
            "image/png": "[encoded data removed]",
            "text/plain": [
              "<Figure size 1200x800 with 1 Axes>"
            ]
          },
          "metadata": {
            "tags": []
          }
        }
      ]
    },
    {
      "cell_type": "markdown",
      "metadata": {
        "id": "Gj8hljCCKXPM"
      },
      "source": [
        "Most significant portion of flights are taken by UA,B6,EV,DL and AA."
      ]
    },
    {
      "cell_type": "code",
      "metadata": {
        "id": "iXGeZk1EDNlE",
        "colab": {
          "base_uri": "https://localhost:8080/"
        },
        "outputId": "303a0caf-79d7-41be-a3fe-95545f975a3e"
      },
      "source": [
        "df.columns"
      ],
      "execution_count": null,
      "outputs": [
        {
          "output_type": "execute_result",
          "data": {
            "text/plain": [
              "Index(['year', 'month', 'day', 'dep_time', 'sched_dep_time', 'dep_delay',\n",
              "       'arr_time', 'sched_arr_time', 'arr_delay', 'carrier', 'flight',\n",
              "       'tailnum', 'origin', 'dest', 'air_time', 'distance', 'hour', 'minute',\n",
              "       'time_hour'],\n",
              "      dtype='object')"
            ]
          },
          "metadata": {
            "tags": []
          },
          "execution_count": 15
        }
      ]
    },
    {
      "cell_type": "code",
      "metadata": {
        "id": "AK34TUbCDXA3",
        "colab": {
          "base_uri": "https://localhost:8080/",
          "height": 299
        },
        "outputId": "08105361-caf6-4224-f962-4a7a8b0769d7"
      },
      "source": [
        "df.head()"
      ],
      "execution_count": null,
      "outputs": [
        {
          "output_type": "execute_result",
          "data": {
            "text/html": [
              "<div>\n",
              "<style scoped>\n",
              "    .dataframe tbody tr th:only-of-type {\n",
              "        vertical-align: middle;\n",
              "    }\n",
              "\n",
              "    .dataframe tbody tr th {\n",
              "        vertical-align: top;\n",
              "    }\n",
              "\n",
              "    .dataframe thead th {\n",
              "        text-align: right;\n",
              "    }\n",
              "</style>\n",
              "<table border=\"1\" class=\"dataframe\">\n",
              "  <thead>\n",
              "    <tr style=\"text-align: right;\">\n",
              "      <th></th>\n",
              "      <th>year</th>\n",
              "      <th>month</th>\n",
              "      <th>day</th>\n",
              "      <th>dep_time</th>\n",
              "      <th>sched_dep_time</th>\n",
              "      <th>dep_delay</th>\n",
              "      <th>arr_time</th>\n",
              "      <th>sched_arr_time</th>\n",
              "      <th>arr_delay</th>\n",
              "      <th>carrier</th>\n",
              "      <th>flight</th>\n",
              "      <th>tailnum</th>\n",
              "      <th>origin</th>\n",
              "      <th>dest</th>\n",
              "      <th>air_time</th>\n",
              "      <th>distance</th>\n",
              "      <th>hour</th>\n",
              "      <th>minute</th>\n",
              "      <th>time_hour</th>\n",
              "    </tr>\n",
              "  </thead>\n",
              "  <tbody>\n",
              "    <tr>\n",
              "      <th>0</th>\n",
              "      <td>2013</td>\n",
              "      <td>1</td>\n",
              "      <td>1</td>\n",
              "      <td>517.0</td>\n",
              "      <td>515</td>\n",
              "      <td>2.0</td>\n",
              "      <td>830.0</td>\n",
              "      <td>819</td>\n",
              "      <td>11.0</td>\n",
              "      <td>UA</td>\n",
              "      <td>1545</td>\n",
              "      <td>N14228</td>\n",
              "      <td>EWR</td>\n",
              "      <td>IAH</td>\n",
              "      <td>227.0</td>\n",
              "      <td>1400</td>\n",
              "      <td>5</td>\n",
              "      <td>15</td>\n",
              "      <td>2013-01-01T05:00:00Z</td>\n",
              "    </tr>\n",
              "    <tr>\n",
              "      <th>1</th>\n",
              "      <td>2013</td>\n",
              "      <td>1</td>\n",
              "      <td>1</td>\n",
              "      <td>533.0</td>\n",
              "      <td>529</td>\n",
              "      <td>4.0</td>\n",
              "      <td>850.0</td>\n",
              "      <td>830</td>\n",
              "      <td>20.0</td>\n",
              "      <td>UA</td>\n",
              "      <td>1714</td>\n",
              "      <td>N24211</td>\n",
              "      <td>LGA</td>\n",
              "      <td>IAH</td>\n",
              "      <td>227.0</td>\n",
              "      <td>1416</td>\n",
              "      <td>5</td>\n",
              "      <td>29</td>\n",
              "      <td>2013-01-01T05:00:00Z</td>\n",
              "    </tr>\n",
              "    <tr>\n",
              "      <th>2</th>\n",
              "      <td>2013</td>\n",
              "      <td>1</td>\n",
              "      <td>1</td>\n",
              "      <td>542.0</td>\n",
              "      <td>540</td>\n",
              "      <td>2.0</td>\n",
              "      <td>923.0</td>\n",
              "      <td>850</td>\n",
              "      <td>33.0</td>\n",
              "      <td>AA</td>\n",
              "      <td>1141</td>\n",
              "      <td>N619AA</td>\n",
              "      <td>JFK</td>\n",
              "      <td>MIA</td>\n",
              "      <td>160.0</td>\n",
              "      <td>1089</td>\n",
              "      <td>5</td>\n",
              "      <td>40</td>\n",
              "      <td>2013-01-01T05:00:00Z</td>\n",
              "    </tr>\n",
              "    <tr>\n",
              "      <th>3</th>\n",
              "      <td>2013</td>\n",
              "      <td>1</td>\n",
              "      <td>1</td>\n",
              "      <td>544.0</td>\n",
              "      <td>545</td>\n",
              "      <td>-1.0</td>\n",
              "      <td>1004.0</td>\n",
              "      <td>1022</td>\n",
              "      <td>-18.0</td>\n",
              "      <td>B6</td>\n",
              "      <td>725</td>\n",
              "      <td>N804JB</td>\n",
              "      <td>JFK</td>\n",
              "      <td>BQN</td>\n",
              "      <td>183.0</td>\n",
              "      <td>1576</td>\n",
              "      <td>5</td>\n",
              "      <td>45</td>\n",
              "      <td>2013-01-01T05:00:00Z</td>\n",
              "    </tr>\n",
              "    <tr>\n",
              "      <th>4</th>\n",
              "      <td>2013</td>\n",
              "      <td>1</td>\n",
              "      <td>1</td>\n",
              "      <td>554.0</td>\n",
              "      <td>600</td>\n",
              "      <td>-6.0</td>\n",
              "      <td>812.0</td>\n",
              "      <td>837</td>\n",
              "      <td>-25.0</td>\n",
              "      <td>DL</td>\n",
              "      <td>461</td>\n",
              "      <td>N668DN</td>\n",
              "      <td>LGA</td>\n",
              "      <td>ATL</td>\n",
              "      <td>116.0</td>\n",
              "      <td>762</td>\n",
              "      <td>6</td>\n",
              "      <td>0</td>\n",
              "      <td>2013-01-01T06:00:00Z</td>\n",
              "    </tr>\n",
              "  </tbody>\n",
              "</table>\n",
              "</div>"
            ],
            "text/plain": [
              "   year  month  day  dep_time  ...  distance  hour  minute             time_hour\n",
              "0  2013      1    1     517.0  ...      1400     5      15  2013-01-01T05:00:00Z\n",
              "1  2013      1    1     533.0  ...      1416     5      29  2013-01-01T05:00:00Z\n",
              "2  2013      1    1     542.0  ...      1089     5      40  2013-01-01T05:00:00Z\n",
              "3  2013      1    1     544.0  ...      1576     5      45  2013-01-01T05:00:00Z\n",
              "4  2013      1    1     554.0  ...       762     6       0  2013-01-01T06:00:00Z\n",
              "\n",
              "[5 rows x 19 columns]"
            ]
          },
          "metadata": {
            "tags": []
          },
          "execution_count": 16
        }
      ]
    },
    {
      "cell_type": "code",
      "metadata": {
        "id": "lX_euk6GLbSJ",
        "colab": {
          "base_uri": "https://localhost:8080/"
        },
        "outputId": "ddf6dd1a-6de3-484b-fabd-8b017d270f78"
      },
      "source": [
        "df.year.unique()"
      ],
      "execution_count": null,
      "outputs": [
        {
          "output_type": "execute_result",
          "data": {
            "text/plain": [
              "array([2013])"
            ]
          },
          "metadata": {
            "tags": []
          },
          "execution_count": 17
        }
      ]
    },
    {
      "cell_type": "code",
      "metadata": {
        "id": "yKglUVjsFDP5",
        "colab": {
          "base_uri": "https://localhost:8080/"
        },
        "outputId": "d362bc88-d607-4824-f884-d8824450ff86"
      },
      "source": [
        "# Average departure delay and arrival delay by year and month\n",
        "print(df.groupby(['year','month'])['dep_delay'].mean())\n",
        "print(df.groupby(['year','month'])['arr_delay'].mean())"
      ],
      "execution_count": null,
      "outputs": [
        {
          "output_type": "stream",
          "text": [
            "year  month\n",
            "2013  1         9.985491\n",
            "      2        10.760239\n",
            "      3        13.164289\n",
            "      4        13.849187\n",
            "      5        12.891709\n",
            "      6        20.725614\n",
            "      7        21.522179\n",
            "      8        12.570524\n",
            "      9         6.630285\n",
            "      10        6.233175\n",
            "      11        5.420340\n",
            "      12       16.482161\n",
            "Name: dep_delay, dtype: float64\n",
            "year  month\n",
            "2013  1         6.129972\n",
            "      2         5.613019\n",
            "      3         5.807577\n",
            "      4        11.176063\n",
            "      5         3.521509\n",
            "      6        16.481330\n",
            "      7        16.711307\n",
            "      8         6.040652\n",
            "      9        -4.018364\n",
            "      10       -0.167063\n",
            "      11        0.461347\n",
            "      12       14.870355\n",
            "Name: arr_delay, dtype: float64\n"
          ],
          "name": "stdout"
        }
      ]
    },
    {
      "cell_type": "code",
      "metadata": {
        "id": "DtvVKolGKWFy",
        "colab": {
          "base_uri": "https://localhost:8080/",
          "height": 395
        },
        "outputId": "57acf758-cb71-4a69-9e83-0ffd1c8b6b07"
      },
      "source": [
        "# Plotting trend of arrival and departure delay to understand the factors behind it\n",
        "\n",
        "plt.plot(df.groupby(['year','month'])['dep_delay'].mean().values)\n",
        "plt.plot(df.groupby(['year','month'])['arr_delay'].mean().values)\n",
        "plt.xlabel(\"Month\")\n",
        "plt.ylabel(\"Departure delay\")\n",
        "plt.legend([\"Departure delay\",\"Arrival delay\"])\n",
        "plt.plot()"
      ],
      "execution_count": null,
      "outputs": [
        {
          "output_type": "execute_result",
          "data": {
            "text/plain": [
              "[]"
            ]
          },
          "metadata": {
            "tags": []
          },
          "execution_count": 19
        },
        {
          "output_type": "display_data",
          "data": {
            "image/png": "[encoded data removed]",
            "text/plain": [
              "<Figure size 600x400 with 1 Axes>"
            ]
          },
          "metadata": {
            "tags": []
          }
        }
      ]
    },
    {
      "cell_type": "markdown",
      "metadata": {
        "id": "tSyKFfxBKoYV"
      },
      "source": [
        "The delays dropped significantly between August and September and showed a steep rise afterwards. In fact, flights were earlier than scheduled arrival timings in September and October. Hence, these months can serve as a good benchmark to improve arrival delays."
      ]
    },
    {
      "cell_type": "code",
      "metadata": {
        "id": "yC-lYQbPLYVn",
        "colab": {
          "base_uri": "https://localhost:8080/",
          "height": 462
        },
        "outputId": "544ae18d-c593-4928-bdb7-7d0a29a9a3bf"
      },
      "source": [
        "# Carrierwise Depature time\n",
        "\n",
        "df[[\"dep_time\",\"carrier\"]].boxplot(by=\"carrier\")\n",
        "plt.xlabel(\"Carriers\")\n",
        "plt.ylabel(\"Departure time\")\n",
        "plt.show()"
      ],
      "execution_count": null,
      "outputs": [
        {
          "output_type": "stream",
          "text": [
            "/usr/local/lib/python3.6/dist-packages/numpy/core/_asarray.py:83: VisibleDeprecationWarning: Creating an ndarray from ragged nested sequences (which is a list-or-tuple of lists-or-tuples-or ndarrays with different lengths or shapes) is deprecated. If you meant to do this, you must specify 'dtype=object' when creating the ndarray\n",
            "  return array(a, dtype, copy=False, order=order)\n"
          ],
          "name": "stderr"
        },
        {
          "output_type": "display_data",
          "data": {
            "image/png": "[encoded data removed]",
            "text/plain": [
              "<Figure size 600x400 with 1 Axes>"
            ]
          },
          "metadata": {
            "tags": []
          }
        }
      ]
    },
    {
      "cell_type": "markdown",
      "metadata": {
        "id": "UCResSHvLo-i"
      },
      "source": [
        "Departure times are approximately similar for all the flight carriers and variances are similar (i.e. most operate throughout daytime) except HA, OO and YV airlines. They operate mostly during specific durations of the day with some outliers and exceptions."
      ]
    },
    {
      "cell_type": "code",
      "metadata": {
        "id": "ImBr6GdqNgiw",
        "colab": {
          "base_uri": "https://localhost:8080/",
          "height": 378
        },
        "outputId": "d07d6a23-9797-428f-f071-969808b44db1"
      },
      "source": [
        "# Carrierwise departure delay\n",
        "\n",
        "plt.bar(x=df['carrier'].unique(),height=df.groupby('carrier')['dep_delay'].mean())\n",
        "plt.xlabel(\"Carriers\")\n",
        "plt.ylabel(\"Average departure delays\")\n",
        "plt.show()"
      ],
      "execution_count": null,
      "outputs": [
        {
          "output_type": "display_data",
          "data": {
            "image/png": "[encoded data removed]",
            "text/plain": [
              "<Figure size 600x400 with 1 Axes>"
            ]
          },
          "metadata": {
            "tags": []
          }
        }
      ]
    },
    {
      "cell_type": "markdown",
      "metadata": {
        "id": "9r2VYGqANiQt"
      },
      "source": [
        "MQ, US, WN and OO are top 4 carriers with most average departure delays.\n",
        "<br>B6, VX and F9 have least departure delays."
      ]
    },
    {
      "cell_type": "code",
      "metadata": {
        "id": "yL_Vg-fEO6B-",
        "colab": {
          "base_uri": "https://localhost:8080/",
          "height": 378
        },
        "outputId": "798eed90-37f6-44ed-d716-a78d93609369"
      },
      "source": [
        "# Carrierwise arrival delay\n",
        "\n",
        "plt.bar(x=df['carrier'].unique(),height=df.groupby('carrier')['arr_delay'].mean())\n",
        "plt.xlabel(\"Carriers\")\n",
        "plt.ylabel(\"Average arrival delays\")\n",
        "plt.show()"
      ],
      "execution_count": null,
      "outputs": [
        {
          "output_type": "display_data",
          "data": {
            "image/png": "[encoded data removed]",
            "text/plain": [
              "<Figure size 600x400 with 1 Axes>"
            ]
          },
          "metadata": {
            "tags": []
          }
        }
      ]
    },
    {
      "cell_type": "markdown",
      "metadata": {
        "id": "ll4DNuZVN-in"
      },
      "source": [
        "- US, WN, MQ and OO show highest arrival delays as well.<br>\n",
        "- However, B6 , VX surprisingly reach destinations earlier than scheduled even though they show some departure delays.<br> \n",
        "- F9, eventhough shows least departure delay(even lesser than B6 and VX), fails to reach earlier than scheduled time.<br>\n",
        "- AA shows minimum arrival positive delay despite delaying departure time moderately. "
      ]
    },
    {
      "cell_type": "markdown",
      "metadata": {
        "id": "jC5Q6IifXX8s"
      },
      "source": [
        "# Task 3\n",
        "\n",
        "### Create a new dataset named (pop_data) with flight data from airlines UA (United Airlines) and DL (Delta Airlines). The data set must contain only two columns, company name and delayed arrival flights. The data must be extracted from dataset flights.csv to build the pop_data dataset. The dataset should be limited to no more than 20,000 rows per airlines."
      ]
    },
    {
      "cell_type": "markdown",
      "metadata": {
        "id": "FY2aEksvPams"
      },
      "source": [
        "Using Stratified sampling to sample data of UA and DL airlines. So, first slicing dataset in only DL or UA airline's data and the creating two separate datasets by random sampling and joining them. \n"
      ]
    },
    {
      "cell_type": "code",
      "metadata": {
        "id": "IeC63cfWnJYC"
      },
      "source": [
        "np.random.seed(123)"
      ],
      "execution_count": null,
      "outputs": []
    },
    {
      "cell_type": "code",
      "metadata": {
        "id": "6CzVDXVuXaXc"
      },
      "source": [
        "pop_data=df[[\"carrier\",'arr_delay']][(df[\"carrier\"]== \"UA\")| (df[\"carrier\"]== \"DL\")]"
      ],
      "execution_count": null,
      "outputs": []
    },
    {
      "cell_type": "code",
      "metadata": {
        "id": "hVf3D18YY3zP",
        "colab": {
          "base_uri": "https://localhost:8080/"
        },
        "outputId": "1e8322fe-de27-4452-f0ce-d2397308a444"
      },
      "source": [
        "pop_data['carrier'].unique()"
      ],
      "execution_count": null,
      "outputs": [
        {
          "output_type": "execute_result",
          "data": {
            "text/plain": [
              "array(['UA', 'DL'], dtype=object)"
            ]
          },
          "metadata": {
            "tags": []
          },
          "execution_count": 25
        }
      ]
    },
    {
      "cell_type": "code",
      "metadata": {
        "id": "0Ir_Q0rAZeGA",
        "colab": {
          "base_uri": "https://localhost:8080/"
        },
        "outputId": "63945ac4-ec90-4c8c-ecbb-d398aa418ba6"
      },
      "source": [
        "len(pop_data['carrier']==\"DL\")"
      ],
      "execution_count": null,
      "outputs": [
        {
          "output_type": "execute_result",
          "data": {
            "text/plain": [
              "105440"
            ]
          },
          "metadata": {
            "tags": []
          },
          "execution_count": 26
        }
      ]
    },
    {
      "cell_type": "code",
      "metadata": {
        "id": "XLyMuVxrcLmZ"
      },
      "source": [
        "a=pop_data[(pop_data['carrier']==\"DL\")].sample(n = 20000) "
      ],
      "execution_count": null,
      "outputs": []
    },
    {
      "cell_type": "code",
      "metadata": {
        "id": "Vs7MuvuUcrXS"
      },
      "source": [
        "b=pop_data[(pop_data['carrier']==\"UA\")].sample(n = 20000)"
      ],
      "execution_count": null,
      "outputs": []
    },
    {
      "cell_type": "code",
      "metadata": {
        "id": "l6o1CvskdWwv"
      },
      "source": [
        "pop_data=a.append(b)"
      ],
      "execution_count": null,
      "outputs": []
    },
    {
      "cell_type": "code",
      "metadata": {
        "id": "88LQl-wKdg97",
        "colab": {
          "base_uri": "https://localhost:8080/",
          "height": 402
        },
        "outputId": "a8a38c26-6565-462e-a350-b536e267f2e6"
      },
      "source": [
        "pop_data"
      ],
      "execution_count": null,
      "outputs": [
        {
          "output_type": "execute_result",
          "data": {
            "text/html": [
              "<div>\n",
              "<style scoped>\n",
              "    .dataframe tbody tr th:only-of-type {\n",
              "        vertical-align: middle;\n",
              "    }\n",
              "\n",
              "    .dataframe tbody tr th {\n",
              "        vertical-align: top;\n",
              "    }\n",
              "\n",
              "    .dataframe thead th {\n",
              "        text-align: right;\n",
              "    }\n",
              "</style>\n",
              "<table border=\"1\" class=\"dataframe\">\n",
              "  <thead>\n",
              "    <tr style=\"text-align: right;\">\n",
              "      <th></th>\n",
              "      <th>carrier</th>\n",
              "      <th>arr_delay</th>\n",
              "    </tr>\n",
              "  </thead>\n",
              "  <tbody>\n",
              "    <tr>\n",
              "      <th>313890</th>\n",
              "      <td>DL</td>\n",
              "      <td>-29.0</td>\n",
              "    </tr>\n",
              "    <tr>\n",
              "      <th>311964</th>\n",
              "      <td>DL</td>\n",
              "      <td>-1.0</td>\n",
              "    </tr>\n",
              "    <tr>\n",
              "      <th>30711</th>\n",
              "      <td>DL</td>\n",
              "      <td>17.0</td>\n",
              "    </tr>\n",
              "    <tr>\n",
              "      <th>33683</th>\n",
              "      <td>DL</td>\n",
              "      <td>-4.0</td>\n",
              "    </tr>\n",
              "    <tr>\n",
              "      <th>258428</th>\n",
              "      <td>DL</td>\n",
              "      <td>65.0</td>\n",
              "    </tr>\n",
              "    <tr>\n",
              "      <th>...</th>\n",
              "      <td>...</td>\n",
              "      <td>...</td>\n",
              "    </tr>\n",
              "    <tr>\n",
              "      <th>274535</th>\n",
              "      <td>UA</td>\n",
              "      <td>31.0</td>\n",
              "    </tr>\n",
              "    <tr>\n",
              "      <th>242971</th>\n",
              "      <td>UA</td>\n",
              "      <td>-54.0</td>\n",
              "    </tr>\n",
              "    <tr>\n",
              "      <th>17182</th>\n",
              "      <td>UA</td>\n",
              "      <td>-7.0</td>\n",
              "    </tr>\n",
              "    <tr>\n",
              "      <th>95244</th>\n",
              "      <td>UA</td>\n",
              "      <td>8.0</td>\n",
              "    </tr>\n",
              "    <tr>\n",
              "      <th>220990</th>\n",
              "      <td>UA</td>\n",
              "      <td>-9.0</td>\n",
              "    </tr>\n",
              "  </tbody>\n",
              "</table>\n",
              "<p>40000 rows × 2 columns</p>\n",
              "</div>"
            ],
            "text/plain": [
              "       carrier  arr_delay\n",
              "313890      DL      -29.0\n",
              "311964      DL       -1.0\n",
              "30711       DL       17.0\n",
              "33683       DL       -4.0\n",
              "258428      DL       65.0\n",
              "...        ...        ...\n",
              "274535      UA       31.0\n",
              "242971      UA      -54.0\n",
              "17182       UA       -7.0\n",
              "95244       UA        8.0\n",
              "220990      UA       -9.0\n",
              "\n",
              "[40000 rows x 2 columns]"
            ]
          },
          "metadata": {
            "tags": []
          },
          "execution_count": 30
        }
      ]
    },
    {
      "cell_type": "code",
      "metadata": {
        "id": "1J-y9vgdK5PH"
      },
      "source": [
        "# Dropping the index and adding sample_id column\n",
        "\n",
        "pop_data=pop_data.reset_index(drop=True)\n",
        "pop_data[\"sample_id\"]=pop_data.index\n",
        "pop_data['sample_id']=pop_data['sample_id']+1"
      ],
      "execution_count": null,
      "outputs": []
    },
    {
      "cell_type": "code",
      "metadata": {
        "id": "me6Ywo3rNqs_",
        "colab": {
          "base_uri": "https://localhost:8080/",
          "height": 195
        },
        "outputId": "e6ef4abe-7c5e-4f91-b6b7-827277d714da"
      },
      "source": [
        "pop_data.head()"
      ],
      "execution_count": null,
      "outputs": [
        {
          "output_type": "execute_result",
          "data": {
            "text/html": [
              "<div>\n",
              "<style scoped>\n",
              "    .dataframe tbody tr th:only-of-type {\n",
              "        vertical-align: middle;\n",
              "    }\n",
              "\n",
              "    .dataframe tbody tr th {\n",
              "        vertical-align: top;\n",
              "    }\n",
              "\n",
              "    .dataframe thead th {\n",
              "        text-align: right;\n",
              "    }\n",
              "</style>\n",
              "<table border=\"1\" class=\"dataframe\">\n",
              "  <thead>\n",
              "    <tr style=\"text-align: right;\">\n",
              "      <th></th>\n",
              "      <th>carrier</th>\n",
              "      <th>arr_delay</th>\n",
              "      <th>sample_id</th>\n",
              "    </tr>\n",
              "  </thead>\n",
              "  <tbody>\n",
              "    <tr>\n",
              "      <th>0</th>\n",
              "      <td>DL</td>\n",
              "      <td>-29.0</td>\n",
              "      <td>1</td>\n",
              "    </tr>\n",
              "    <tr>\n",
              "      <th>1</th>\n",
              "      <td>DL</td>\n",
              "      <td>-1.0</td>\n",
              "      <td>2</td>\n",
              "    </tr>\n",
              "    <tr>\n",
              "      <th>2</th>\n",
              "      <td>DL</td>\n",
              "      <td>17.0</td>\n",
              "      <td>3</td>\n",
              "    </tr>\n",
              "    <tr>\n",
              "      <th>3</th>\n",
              "      <td>DL</td>\n",
              "      <td>-4.0</td>\n",
              "      <td>4</td>\n",
              "    </tr>\n",
              "    <tr>\n",
              "      <th>4</th>\n",
              "      <td>DL</td>\n",
              "      <td>65.0</td>\n",
              "      <td>5</td>\n",
              "    </tr>\n",
              "  </tbody>\n",
              "</table>\n",
              "</div>"
            ],
            "text/plain": [
              "  carrier  arr_delay  sample_id\n",
              "0      DL      -29.0          1\n",
              "1      DL       -1.0          2\n",
              "2      DL       17.0          3\n",
              "3      DL       -4.0          4\n",
              "4      DL       65.0          5"
            ]
          },
          "metadata": {
            "tags": []
          },
          "execution_count": 32
        }
      ]
    },
    {
      "cell_type": "markdown",
      "metadata": {
        "id": "Okaur2UNPf5I"
      },
      "source": [
        "# Task 4\n",
        "\n",
        "### Que: Create two new datasets (“dl” and “ua”) of 1000 observations each from the “pop_data” dataset only with data from the DL (Delta Airlines) for “dl” and only data from UA (United Airlines) for “ua” . Tip: Include a column called sample_id populated with number 1 for the first sample and 2 for the second sample"
      ]
    },
    {
      "cell_type": "markdown",
      "metadata": {
        "id": "zVXMz6pYPuPj"
      },
      "source": [
        "Using systematic sampling to reduce dataset into dataset containing 1000 elements each for  two airlines UA and DL. For selection, we need to select every 20th element in the randomly sampled dataset( which contains 20000 elements) to make up the dataset of 1000 elements each."
      ]
    },
    {
      "cell_type": "code",
      "metadata": {
        "id": "NyjBGErkORf4",
        "colab": {
          "base_uri": "https://localhost:8080/",
          "height": 195
        },
        "outputId": "4bfe8e0e-7d3a-4992-f88a-cf14765489b6"
      },
      "source": [
        "# Sampling 1000 elements of DL airline using systematic sampling\n",
        "\n",
        "dl=pop_data[(pop_data[\"sample_id\"]%20==0)&(pop_data[\"sample_id\"]<=20000)]\n",
        "dl.reset_index(drop=True,inplace=True)\n",
        "dl.head()"
      ],
      "execution_count": null,
      "outputs": [
        {
          "output_type": "execute_result",
          "data": {
            "text/html": [
              "<div>\n",
              "<style scoped>\n",
              "    .dataframe tbody tr th:only-of-type {\n",
              "        vertical-align: middle;\n",
              "    }\n",
              "\n",
              "    .dataframe tbody tr th {\n",
              "        vertical-align: top;\n",
              "    }\n",
              "\n",
              "    .dataframe thead th {\n",
              "        text-align: right;\n",
              "    }\n",
              "</style>\n",
              "<table border=\"1\" class=\"dataframe\">\n",
              "  <thead>\n",
              "    <tr style=\"text-align: right;\">\n",
              "      <th></th>\n",
              "      <th>carrier</th>\n",
              "      <th>arr_delay</th>\n",
              "      <th>sample_id</th>\n",
              "    </tr>\n",
              "  </thead>\n",
              "  <tbody>\n",
              "    <tr>\n",
              "      <th>0</th>\n",
              "      <td>DL</td>\n",
              "      <td>-36.0</td>\n",
              "      <td>20</td>\n",
              "    </tr>\n",
              "    <tr>\n",
              "      <th>1</th>\n",
              "      <td>DL</td>\n",
              "      <td>-20.0</td>\n",
              "      <td>40</td>\n",
              "    </tr>\n",
              "    <tr>\n",
              "      <th>2</th>\n",
              "      <td>DL</td>\n",
              "      <td>40.0</td>\n",
              "      <td>60</td>\n",
              "    </tr>\n",
              "    <tr>\n",
              "      <th>3</th>\n",
              "      <td>DL</td>\n",
              "      <td>36.0</td>\n",
              "      <td>80</td>\n",
              "    </tr>\n",
              "    <tr>\n",
              "      <th>4</th>\n",
              "      <td>DL</td>\n",
              "      <td>-36.0</td>\n",
              "      <td>100</td>\n",
              "    </tr>\n",
              "  </tbody>\n",
              "</table>\n",
              "</div>"
            ],
            "text/plain": [
              "  carrier  arr_delay  sample_id\n",
              "0      DL      -36.0         20\n",
              "1      DL      -20.0         40\n",
              "2      DL       40.0         60\n",
              "3      DL       36.0         80\n",
              "4      DL      -36.0        100"
            ]
          },
          "metadata": {
            "tags": []
          },
          "execution_count": 33
        }
      ]
    },
    {
      "cell_type": "code",
      "metadata": {
        "id": "E65t7_YHQseO",
        "colab": {
          "base_uri": "https://localhost:8080/",
          "height": 195
        },
        "outputId": "ebc093cb-67ad-4f5d-d553-333dd58cedaa"
      },
      "source": [
        "# Sampling 1000 elements of UA airline using systematic sampling\n",
        "\n",
        "ua=pop_data[(pop_data[\"sample_id\"]%20==0)&(pop_data[\"sample_id\"]>20000)]\n",
        "ua.reset_index(drop=True,inplace=True)\n",
        "ua.head()"
      ],
      "execution_count": null,
      "outputs": [
        {
          "output_type": "execute_result",
          "data": {
            "text/html": [
              "<div>\n",
              "<style scoped>\n",
              "    .dataframe tbody tr th:only-of-type {\n",
              "        vertical-align: middle;\n",
              "    }\n",
              "\n",
              "    .dataframe tbody tr th {\n",
              "        vertical-align: top;\n",
              "    }\n",
              "\n",
              "    .dataframe thead th {\n",
              "        text-align: right;\n",
              "    }\n",
              "</style>\n",
              "<table border=\"1\" class=\"dataframe\">\n",
              "  <thead>\n",
              "    <tr style=\"text-align: right;\">\n",
              "      <th></th>\n",
              "      <th>carrier</th>\n",
              "      <th>arr_delay</th>\n",
              "      <th>sample_id</th>\n",
              "    </tr>\n",
              "  </thead>\n",
              "  <tbody>\n",
              "    <tr>\n",
              "      <th>0</th>\n",
              "      <td>UA</td>\n",
              "      <td>-26.0</td>\n",
              "      <td>20020</td>\n",
              "    </tr>\n",
              "    <tr>\n",
              "      <th>1</th>\n",
              "      <td>UA</td>\n",
              "      <td>2.0</td>\n",
              "      <td>20040</td>\n",
              "    </tr>\n",
              "    <tr>\n",
              "      <th>2</th>\n",
              "      <td>UA</td>\n",
              "      <td>1.0</td>\n",
              "      <td>20060</td>\n",
              "    </tr>\n",
              "    <tr>\n",
              "      <th>3</th>\n",
              "      <td>UA</td>\n",
              "      <td>2.0</td>\n",
              "      <td>20080</td>\n",
              "    </tr>\n",
              "    <tr>\n",
              "      <th>4</th>\n",
              "      <td>UA</td>\n",
              "      <td>6.0</td>\n",
              "      <td>20100</td>\n",
              "    </tr>\n",
              "  </tbody>\n",
              "</table>\n",
              "</div>"
            ],
            "text/plain": [
              "  carrier  arr_delay  sample_id\n",
              "0      UA      -26.0      20020\n",
              "1      UA        2.0      20040\n",
              "2      UA        1.0      20060\n",
              "3      UA        2.0      20080\n",
              "4      UA        6.0      20100"
            ]
          },
          "metadata": {
            "tags": []
          },
          "execution_count": 34
        }
      ]
    },
    {
      "cell_type": "markdown",
      "metadata": {
        "id": "fdQu9PzFTasO"
      },
      "source": [
        "#Task 5\n",
        "### ***Que***: Create a new dataset (samples) containing the data of the 2 samples created in the previous item to be used in future analysis."
      ]
    },
    {
      "cell_type": "code",
      "metadata": {
        "id": "Fh0FR_RKSk3-",
        "colab": {
          "base_uri": "https://localhost:8080/",
          "height": 195
        },
        "outputId": "8b973588-3cb4-437d-e6e7-49239cab2d0d"
      },
      "source": [
        "#Combining data for future use\n",
        "\n",
        "samples=dl.append(ua)\n",
        "samples.reset_index(drop=True,inplace=True)\n",
        "samples.tail()"
      ],
      "execution_count": null,
      "outputs": [
        {
          "output_type": "execute_result",
          "data": {
            "text/html": [
              "<div>\n",
              "<style scoped>\n",
              "    .dataframe tbody tr th:only-of-type {\n",
              "        vertical-align: middle;\n",
              "    }\n",
              "\n",
              "    .dataframe tbody tr th {\n",
              "        vertical-align: top;\n",
              "    }\n",
              "\n",
              "    .dataframe thead th {\n",
              "        text-align: right;\n",
              "    }\n",
              "</style>\n",
              "<table border=\"1\" class=\"dataframe\">\n",
              "  <thead>\n",
              "    <tr style=\"text-align: right;\">\n",
              "      <th></th>\n",
              "      <th>carrier</th>\n",
              "      <th>arr_delay</th>\n",
              "      <th>sample_id</th>\n",
              "    </tr>\n",
              "  </thead>\n",
              "  <tbody>\n",
              "    <tr>\n",
              "      <th>1995</th>\n",
              "      <td>UA</td>\n",
              "      <td>-11.0</td>\n",
              "      <td>39920</td>\n",
              "    </tr>\n",
              "    <tr>\n",
              "      <th>1996</th>\n",
              "      <td>UA</td>\n",
              "      <td>-22.0</td>\n",
              "      <td>39940</td>\n",
              "    </tr>\n",
              "    <tr>\n",
              "      <th>1997</th>\n",
              "      <td>UA</td>\n",
              "      <td>-2.0</td>\n",
              "      <td>39960</td>\n",
              "    </tr>\n",
              "    <tr>\n",
              "      <th>1998</th>\n",
              "      <td>UA</td>\n",
              "      <td>-5.0</td>\n",
              "      <td>39980</td>\n",
              "    </tr>\n",
              "    <tr>\n",
              "      <th>1999</th>\n",
              "      <td>UA</td>\n",
              "      <td>-9.0</td>\n",
              "      <td>40000</td>\n",
              "    </tr>\n",
              "  </tbody>\n",
              "</table>\n",
              "</div>"
            ],
            "text/plain": [
              "     carrier  arr_delay  sample_id\n",
              "1995      UA      -11.0      39920\n",
              "1996      UA      -22.0      39940\n",
              "1997      UA       -2.0      39960\n",
              "1998      UA       -5.0      39980\n",
              "1999      UA       -9.0      40000"
            ]
          },
          "metadata": {
            "tags": []
          },
          "execution_count": 35
        }
      ]
    },
    {
      "cell_type": "markdown",
      "metadata": {
        "id": "N26YRepeTuTs"
      },
      "source": [
        "# Task 6\n",
        "\n",
        "### Que: For each sample (“dl” and “ua”) calculate de standard error and the mean. Standard error can be calculated using this expression :"
      ]
    },
    {
      "cell_type": "markdown",
      "metadata": {
        "id": "u77E9Ijws9O2"
      },
      "source": [
        "First let's treat outliers."
      ]
    },
    {
      "cell_type": "code",
      "metadata": {
        "id": "o6yU-iEeuH-S",
        "colab": {
          "base_uri": "https://localhost:8080/",
          "height": 195
        },
        "outputId": "6bc2586f-626b-4fb3-992a-ddcb09d9907b"
      },
      "source": [
        "# checking the head\n",
        "dl.head()"
      ],
      "execution_count": null,
      "outputs": [
        {
          "output_type": "execute_result",
          "data": {
            "text/html": [
              "<div>\n",
              "<style scoped>\n",
              "    .dataframe tbody tr th:only-of-type {\n",
              "        vertical-align: middle;\n",
              "    }\n",
              "\n",
              "    .dataframe tbody tr th {\n",
              "        vertical-align: top;\n",
              "    }\n",
              "\n",
              "    .dataframe thead th {\n",
              "        text-align: right;\n",
              "    }\n",
              "</style>\n",
              "<table border=\"1\" class=\"dataframe\">\n",
              "  <thead>\n",
              "    <tr style=\"text-align: right;\">\n",
              "      <th></th>\n",
              "      <th>carrier</th>\n",
              "      <th>arr_delay</th>\n",
              "      <th>sample_id</th>\n",
              "    </tr>\n",
              "  </thead>\n",
              "  <tbody>\n",
              "    <tr>\n",
              "      <th>0</th>\n",
              "      <td>DL</td>\n",
              "      <td>-36.0</td>\n",
              "      <td>20</td>\n",
              "    </tr>\n",
              "    <tr>\n",
              "      <th>1</th>\n",
              "      <td>DL</td>\n",
              "      <td>-20.0</td>\n",
              "      <td>40</td>\n",
              "    </tr>\n",
              "    <tr>\n",
              "      <th>2</th>\n",
              "      <td>DL</td>\n",
              "      <td>40.0</td>\n",
              "      <td>60</td>\n",
              "    </tr>\n",
              "    <tr>\n",
              "      <th>3</th>\n",
              "      <td>DL</td>\n",
              "      <td>36.0</td>\n",
              "      <td>80</td>\n",
              "    </tr>\n",
              "    <tr>\n",
              "      <th>4</th>\n",
              "      <td>DL</td>\n",
              "      <td>-36.0</td>\n",
              "      <td>100</td>\n",
              "    </tr>\n",
              "  </tbody>\n",
              "</table>\n",
              "</div>"
            ],
            "text/plain": [
              "  carrier  arr_delay  sample_id\n",
              "0      DL      -36.0         20\n",
              "1      DL      -20.0         40\n",
              "2      DL       40.0         60\n",
              "3      DL       36.0         80\n",
              "4      DL      -36.0        100"
            ]
          },
          "metadata": {
            "tags": []
          },
          "execution_count": 36
        }
      ]
    },
    {
      "cell_type": "code",
      "metadata": {
        "id": "lwUBcDDiqCN3",
        "colab": {
          "base_uri": "https://localhost:8080/",
          "height": 358
        },
        "outputId": "45f24876-a8ce-4a74-c827-94c494bd6adf"
      },
      "source": [
        "# Identifying outliers using box plot.\n",
        "\n",
        "plt.boxplot(x=dl[\"arr_delay\"])\n",
        "plt.show()"
      ],
      "execution_count": null,
      "outputs": [
        {
          "output_type": "display_data",
          "data": {
            "image/png": "[encoded data removed]",
            "text/plain": [
              "<Figure size 600x400 with 1 Axes>"
            ]
          },
          "metadata": {
            "tags": []
          }
        }
      ]
    },
    {
      "cell_type": "markdown",
      "metadata": {
        "id": "Ub2KJfDz5Jbj"
      },
      "source": [
        "As we can see, there are a number of outliers that we need to take care of before conducting hypothesis testing. Otherwise, they would increase kurtosis/skewness in the dataset and interfere with the bell shape of the curve. "
      ]
    },
    {
      "cell_type": "code",
      "metadata": {
        "id": "IXKqkgHws8RW",
        "colab": {
          "base_uri": "https://localhost:8080/",
          "height": 69
        },
        "outputId": "8ff74678-a787-4414-c54e-7102d839b284"
      },
      "source": [
        "'''dl=dl[(dl[\"arr_delay\"]<dl[\"arr_delay\"].quantile(0.95))&(dl[\"arr_delay\"]>dl[\"arr_delay\"].quantile(0.05))]\n",
        "dl.reset_index(drop=True,inplace=True)\n",
        "dl.head()\n",
        "\n",
        "ua=ua[(ua[\"arr_delay\"]<ua[\"arr_delay\"].quantile(0.95))&(ua[\"arr_delay\"]>ua[\"arr_delay\"].quantile(0.05))]\n",
        "ua.reset_index(drop=True,inplace=True)\n",
        "ua.head()'''"
      ],
      "execution_count": null,
      "outputs": [
        {
          "output_type": "execute_result",
          "data": {
            "application/vnd.google.colaboratory.intrinsic+json": {
              "type": "string"
            },
            "text/plain": [
              "'dl=dl[(dl[\"arr_delay\"]<dl[\"arr_delay\"].quantile(0.95))&(dl[\"arr_delay\"]>dl[\"arr_delay\"].quantile(0.05))]\\ndl.reset_index(drop=True,inplace=True)\\ndl.head()\\n\\nua=ua[(ua[\"arr_delay\"]<ua[\"arr_delay\"].quantile(0.95))&(ua[\"arr_delay\"]>ua[\"arr_delay\"].quantile(0.05))]\\nua.reset_index(drop=True,inplace=True)\\nua.head()'"
            ]
          },
          "metadata": {
            "tags": []
          },
          "execution_count": 38
        }
      ]
    },
    {
      "cell_type": "code",
      "metadata": {
        "id": "39dbk4_lmYTc",
        "colab": {
          "base_uri": "https://localhost:8080/",
          "height": 195
        },
        "outputId": "83e70497-f510-467e-b275-5d7bb42df8cc"
      },
      "source": [
        "# Identifying Inter quartile range and omitting data using upper and lower bounds.\n",
        "\n",
        "iqr_dl=dl[\"arr_delay\"].quantile(0.75)-dl[\"arr_delay\"].quantile(0.25)\n",
        "lower_bound_val = dl[\"arr_delay\"].quantile(0.25)-(iqr_dl*1.5)\n",
        "upper_bound_val = dl[\"arr_delay\"].quantile(0.75)+(iqr_dl*1.5)\n",
        "dl=dl[(dl[\"arr_delay\"]<upper_bound_val)&(dl[\"arr_delay\"]>lower_bound_val)]\n",
        "dl.reset_index(drop=True,inplace=True)\n",
        "dl.head()\n",
        "\n",
        "iqr_ua=ua[\"arr_delay\"].quantile(0.75)-ua[\"arr_delay\"].quantile(0.25)\n",
        "lower_bound_val = ua[\"arr_delay\"].quantile(0.25)-(iqr_ua*1.5)\n",
        "upper_bound_val = ua[\"arr_delay\"].quantile(0.75)+(iqr_ua*1.5)\n",
        "ua=ua[(ua[\"arr_delay\"]<upper_bound_val)&(ua[\"arr_delay\"]>lower_bound_val)]\n",
        "ua.reset_index(drop=True,inplace=True)\n",
        "ua.head()"
      ],
      "execution_count": null,
      "outputs": [
        {
          "output_type": "execute_result",
          "data": {
            "text/html": [
              "<div>\n",
              "<style scoped>\n",
              "    .dataframe tbody tr th:only-of-type {\n",
              "        vertical-align: middle;\n",
              "    }\n",
              "\n",
              "    .dataframe tbody tr th {\n",
              "        vertical-align: top;\n",
              "    }\n",
              "\n",
              "    .dataframe thead th {\n",
              "        text-align: right;\n",
              "    }\n",
              "</style>\n",
              "<table border=\"1\" class=\"dataframe\">\n",
              "  <thead>\n",
              "    <tr style=\"text-align: right;\">\n",
              "      <th></th>\n",
              "      <th>carrier</th>\n",
              "      <th>arr_delay</th>\n",
              "      <th>sample_id</th>\n",
              "    </tr>\n",
              "  </thead>\n",
              "  <tbody>\n",
              "    <tr>\n",
              "      <th>0</th>\n",
              "      <td>UA</td>\n",
              "      <td>-26.0</td>\n",
              "      <td>20020</td>\n",
              "    </tr>\n",
              "    <tr>\n",
              "      <th>1</th>\n",
              "      <td>UA</td>\n",
              "      <td>2.0</td>\n",
              "      <td>20040</td>\n",
              "    </tr>\n",
              "    <tr>\n",
              "      <th>2</th>\n",
              "      <td>UA</td>\n",
              "      <td>1.0</td>\n",
              "      <td>20060</td>\n",
              "    </tr>\n",
              "    <tr>\n",
              "      <th>3</th>\n",
              "      <td>UA</td>\n",
              "      <td>2.0</td>\n",
              "      <td>20080</td>\n",
              "    </tr>\n",
              "    <tr>\n",
              "      <th>4</th>\n",
              "      <td>UA</td>\n",
              "      <td>6.0</td>\n",
              "      <td>20100</td>\n",
              "    </tr>\n",
              "  </tbody>\n",
              "</table>\n",
              "</div>"
            ],
            "text/plain": [
              "  carrier  arr_delay  sample_id\n",
              "0      UA      -26.0      20020\n",
              "1      UA        2.0      20040\n",
              "2      UA        1.0      20060\n",
              "3      UA        2.0      20080\n",
              "4      UA        6.0      20100"
            ]
          },
          "metadata": {
            "tags": []
          },
          "execution_count": 39
        }
      ]
    },
    {
      "cell_type": "code",
      "metadata": {
        "id": "KwLkmK5NrMRu",
        "colab": {
          "base_uri": "https://localhost:8080/",
          "height": 358
        },
        "outputId": "60921e40-0da4-46b9-d40d-de4abb1be1bf"
      },
      "source": [
        "# Checking the box plot.\n",
        "\n",
        "plt.boxplot(x=dl[\"arr_delay\"])\n",
        "plt.show()"
      ],
      "execution_count": null,
      "outputs": [
        {
          "output_type": "display_data",
          "data": {
            "image/png": "[encoded data removed]",
            "text/plain": [
              "<Figure size 600x400 with 1 Axes>"
            ]
          },
          "metadata": {
            "tags": []
          }
        }
      ]
    },
    {
      "cell_type": "markdown",
      "metadata": {
        "id": "FpnsRdy252mV"
      },
      "source": [
        "As we can see, there are still some outliers which can affect the distribution of dataset. So, let's remove data more that 95 percentile and less than 5 perccentile for both the datasets UA and DL."
      ]
    },
    {
      "cell_type": "code",
      "metadata": {
        "id": "deBasgCXrOOq",
        "colab": {
          "base_uri": "https://localhost:8080/",
          "height": 195
        },
        "outputId": "e0a17fc8-a0f3-4263-a7eb-b2cdf6e5b66d"
      },
      "source": [
        "#Removing data more than 95th percentile and less than 5th percentile.\n",
        "\n",
        "dl=dl[(dl[\"arr_delay\"]<dl[\"arr_delay\"].quantile(0.95))&(dl[\"arr_delay\"]>dl[\"arr_delay\"].quantile(0.05))]\n",
        "dl.reset_index(drop=True,inplace=True)\n",
        "dl.head()\n",
        "\n",
        "ua=ua[(ua[\"arr_delay\"]<ua[\"arr_delay\"].quantile(0.95))&(ua[\"arr_delay\"]>ua[\"arr_delay\"].quantile(0.05))]\n",
        "ua.reset_index(drop=True,inplace=True)\n",
        "ua.head()"
      ],
      "execution_count": null,
      "outputs": [
        {
          "output_type": "execute_result",
          "data": {
            "text/html": [
              "<div>\n",
              "<style scoped>\n",
              "    .dataframe tbody tr th:only-of-type {\n",
              "        vertical-align: middle;\n",
              "    }\n",
              "\n",
              "    .dataframe tbody tr th {\n",
              "        vertical-align: top;\n",
              "    }\n",
              "\n",
              "    .dataframe thead th {\n",
              "        text-align: right;\n",
              "    }\n",
              "</style>\n",
              "<table border=\"1\" class=\"dataframe\">\n",
              "  <thead>\n",
              "    <tr style=\"text-align: right;\">\n",
              "      <th></th>\n",
              "      <th>carrier</th>\n",
              "      <th>arr_delay</th>\n",
              "      <th>sample_id</th>\n",
              "    </tr>\n",
              "  </thead>\n",
              "  <tbody>\n",
              "    <tr>\n",
              "      <th>0</th>\n",
              "      <td>UA</td>\n",
              "      <td>-26.0</td>\n",
              "      <td>20020</td>\n",
              "    </tr>\n",
              "    <tr>\n",
              "      <th>1</th>\n",
              "      <td>UA</td>\n",
              "      <td>2.0</td>\n",
              "      <td>20040</td>\n",
              "    </tr>\n",
              "    <tr>\n",
              "      <th>2</th>\n",
              "      <td>UA</td>\n",
              "      <td>1.0</td>\n",
              "      <td>20060</td>\n",
              "    </tr>\n",
              "    <tr>\n",
              "      <th>3</th>\n",
              "      <td>UA</td>\n",
              "      <td>2.0</td>\n",
              "      <td>20080</td>\n",
              "    </tr>\n",
              "    <tr>\n",
              "      <th>4</th>\n",
              "      <td>UA</td>\n",
              "      <td>6.0</td>\n",
              "      <td>20100</td>\n",
              "    </tr>\n",
              "  </tbody>\n",
              "</table>\n",
              "</div>"
            ],
            "text/plain": [
              "  carrier  arr_delay  sample_id\n",
              "0      UA      -26.0      20020\n",
              "1      UA        2.0      20040\n",
              "2      UA        1.0      20060\n",
              "3      UA        2.0      20080\n",
              "4      UA        6.0      20100"
            ]
          },
          "metadata": {
            "tags": []
          },
          "execution_count": 41
        }
      ]
    },
    {
      "cell_type": "code",
      "metadata": {
        "id": "0An828d4rdut",
        "colab": {
          "base_uri": "https://localhost:8080/",
          "height": 358
        },
        "outputId": "6ebe1af9-0d5d-4204-e4b8-c12d1cfad17b"
      },
      "source": [
        "#Checking the box plot for outliers\n",
        "\n",
        "plt.boxplot(x=dl[\"arr_delay\"])\n",
        "plt.show()"
      ],
      "execution_count": null,
      "outputs": [
        {
          "output_type": "display_data",
          "data": {
            "image/png": "[encoded data removed]",
            "text/plain": [
              "<Figure size 600x400 with 1 Axes>"
            ]
          },
          "metadata": {
            "tags": []
          }
        }
      ]
    },
    {
      "cell_type": "markdown",
      "metadata": {
        "id": "pxwh6Kqrrfa7"
      },
      "source": [
        "Now, as we can see, the outliers are treated and completely omitted. We can now move forward with our analysis."
      ]
    },
    {
      "cell_type": "code",
      "metadata": {
        "id": "hCTqj8MBtfrS",
        "colab": {
          "base_uri": "https://localhost:8080/"
        },
        "outputId": "5b7f78f3-84ee-400d-fe16-0a9c046140d0"
      },
      "source": [
        "# Determining the sample sizes for both datasets\n",
        "\n",
        "print(len(ua))\n",
        "print(len(dl))"
      ],
      "execution_count": null,
      "outputs": [
        {
          "output_type": "stream",
          "text": [
            "836\n",
            "823\n"
          ],
          "name": "stdout"
        }
      ]
    },
    {
      "cell_type": "code",
      "metadata": {
        "id": "5WYZgkzQTD6F",
        "colab": {
          "base_uri": "https://localhost:8080/"
        },
        "outputId": "fb00d31b-15fb-46d8-d74e-483cce2bea6f"
      },
      "source": [
        "# Standard error for arrival delay of UA airline\n",
        "\n",
        "se_dl=np.std(dl[\"arr_delay\"]) / np.sqrt(len(dl))\n",
        "se_dl"
      ],
      "execution_count": null,
      "outputs": [
        {
          "output_type": "execute_result",
          "data": {
            "text/plain": [
              "0.48186781862512656"
            ]
          },
          "metadata": {
            "tags": []
          },
          "execution_count": 44
        }
      ]
    },
    {
      "cell_type": "code",
      "metadata": {
        "id": "Kytr70xWU1O-",
        "colab": {
          "base_uri": "https://localhost:8080/"
        },
        "outputId": "a921bb2d-cf9c-4127-ccd5-7ca9716a8846"
      },
      "source": [
        "# Standard error for arrival delay of DL airline\n",
        "\n",
        "se_ua=np.std(ua[\"arr_delay\"]) / np.sqrt(len(ua))\n",
        "se_ua"
      ],
      "execution_count": null,
      "outputs": [
        {
          "output_type": "execute_result",
          "data": {
            "text/plain": [
              "0.5500639923178315"
            ]
          },
          "metadata": {
            "tags": []
          },
          "execution_count": 45
        }
      ]
    },
    {
      "cell_type": "markdown",
      "metadata": {
        "id": "B3TLI_-dV8o_"
      },
      "source": [
        "# Task 7\n",
        "\n",
        "### Que: For each mean calculated before we need to define the “confidence intervals” in this case 95% confidence interval. It means calculate lower and upper values."
      ]
    },
    {
      "cell_type": "code",
      "metadata": {
        "id": "qmzkdpNFVABZ",
        "colab": {
          "base_uri": "https://localhost:8080/"
        },
        "outputId": "cf3e4d61-09f4-4af3-b1a8-602ecc644e04"
      },
      "source": [
        "# Means for arrival delay of DL and UA airline\n",
        "\n",
        "mean_dl= dl[\"arr_delay\"].mean()\n",
        "print(mean_dl)\n",
        "mean_ua= ua[\"arr_delay\"].mean()\n",
        "print(mean_ua)"
      ],
      "execution_count": null,
      "outputs": [
        {
          "output_type": "stream",
          "text": [
            "-9.273390036452005\n",
            "-6.7009569377990434\n"
          ],
          "name": "stdout"
        }
      ]
    },
    {
      "cell_type": "code",
      "metadata": {
        "id": "cuS9CiLIWFhh",
        "colab": {
          "base_uri": "https://localhost:8080/"
        },
        "outputId": "cb123afd-3a38-4b14-a41b-893b34a23492"
      },
      "source": [
        "# Printing minimum and maximun values for both datasets\n",
        "\n",
        "print(dl[\"arr_delay\"].min())\n",
        "print(dl[\"arr_delay\"].max())\n",
        "print(ua[\"arr_delay\"].min())\n",
        "print(ua[\"arr_delay\"].max())"
      ],
      "execution_count": null,
      "outputs": [
        {
          "output_type": "stream",
          "text": [
            "-35.0\n",
            "26.0\n",
            "-35.0\n",
            "33.0\n"
          ],
          "name": "stdout"
        }
      ]
    },
    {
      "cell_type": "markdown",
      "metadata": {
        "id": "61PJTnvD7ZIb"
      },
      "source": [
        "First, Let's check the data distribution for DL airline, create offset and apply logarithmic transformation to convert it into a bell shape."
      ]
    },
    {
      "cell_type": "code",
      "metadata": {
        "id": "uLtzX0ksZ4Am",
        "colab": {
          "base_uri": "https://localhost:8080/",
          "height": 358
        },
        "outputId": "8e6ff879-1525-4cc2-e260-0a7b2ed03043"
      },
      "source": [
        "# Plotting the histogram for arrival delay for DL\n",
        "\n",
        "plt.hist(dl[\"arr_delay\"])\n",
        "plt.show()"
      ],
      "execution_count": null,
      "outputs": [
        {
          "output_type": "display_data",
          "data": {
            "image/png": "[encoded data removed]",
            "text/plain": [
              "<Figure size 600x400 with 1 Axes>"
            ]
          },
          "metadata": {
            "tags": []
          }
        }
      ]
    },
    {
      "cell_type": "markdown",
      "metadata": {
        "id": "2KaAjLvfZmSs"
      },
      "source": [
        "Here, the distribution is **right skewed unimodal distribution**. As we can see that there are negative values in the dataset. Negative values are not accpeted for log transformation and statistical tests. So, creating an offset.\n"
      ]
    },
    {
      "cell_type": "code",
      "metadata": {
        "id": "Lt2JgK8CWVxN",
        "colab": {
          "base_uri": "https://localhost:8080/",
          "height": 358
        },
        "outputId": "7ff88c63-5936-4188-bd8b-d7d8dd10f869"
      },
      "source": [
        "#Creating an offset\n",
        "\n",
        "plt.hist(dl[\"arr_delay\"]+70)\n",
        "plt.show()"
      ],
      "execution_count": null,
      "outputs": [
        {
          "output_type": "display_data",
          "data": {
            "image/png": "[encoded data removed]",
            "text/plain": [
              "<Figure size 600x400 with 1 Axes>"
            ]
          },
          "metadata": {
            "tags": []
          }
        }
      ]
    },
    {
      "cell_type": "markdown",
      "metadata": {
        "id": "TnFo7IPcaJol"
      },
      "source": [
        "Now, Let's apply log transformation to convert it into a bell shape."
      ]
    },
    {
      "cell_type": "code",
      "metadata": {
        "id": "sjlG5Fu6aQo8",
        "colab": {
          "base_uri": "https://localhost:8080/",
          "height": 449
        },
        "outputId": "df7743eb-95ff-44eb-9ff2-1bda8ab50e39"
      },
      "source": [
        "# Applying log transformation\n",
        "\n",
        "sns.distplot(np.log10(dl[\"arr_delay\"]+70))\n",
        "plt.plot()"
      ],
      "execution_count": null,
      "outputs": [
        {
          "output_type": "stream",
          "text": [
            "/usr/local/lib/python3.6/dist-packages/seaborn/distributions.py:2557: FutureWarning: `distplot` is a deprecated function and will be removed in a future version. Please adapt your code to use either `displot` (a figure-level function with similar flexibility) or `histplot` (an axes-level function for histograms).\n",
            "  warnings.warn(msg, FutureWarning)\n"
          ],
          "name": "stderr"
        },
        {
          "output_type": "execute_result",
          "data": {
            "text/plain": [
              "[]"
            ]
          },
          "metadata": {
            "tags": []
          },
          "execution_count": 50
        },
        {
          "output_type": "display_data",
          "data": {
            "image/png": "[encoded data removed]",
            "text/plain": [
              "<Figure size 600x400 with 1 Axes>"
            ]
          },
          "metadata": {
            "tags": []
          }
        }
      ]
    },
    {
      "cell_type": "markdown",
      "metadata": {
        "id": "lXJlwnK3ap8y"
      },
      "source": [
        "Now, the distribution more closely resembles normal distribution. If skewness is less than -1 or greater than 1, the distribution is highly skewed. If skewness is between -1 and -0.5 or between 0.5 and 1, the distribution is moderately skewed. If skewness is between -0.5 and 0.5, the distribution is approximately symmetric.\n",
        "\n",
        "Moreover, A normal distribution's kurtosis is 3 in practice. But, scipy's package holds value=0 for a normal distribution"
      ]
    },
    {
      "cell_type": "code",
      "metadata": {
        "id": "327leNjaajex",
        "colab": {
          "base_uri": "https://localhost:8080/"
        },
        "outputId": "5960f0d2-855f-4624-c552-6fd5635fd4f4"
      },
      "source": [
        "# Let's check how closely the transformed data resembles the bell curve now.\n",
        "\n",
        "print(stats.skew(np.log10(dl[\"arr_delay\"]+70)))\n",
        "print(stats.kurtosis(np.log10(dl[\"arr_delay\"]+70)))"
      ],
      "execution_count": null,
      "outputs": [
        {
          "output_type": "stream",
          "text": [
            "-0.08104371727169164\n",
            "-0.6848074528711661\n"
          ],
          "name": "stdout"
        }
      ]
    },
    {
      "cell_type": "markdown",
      "metadata": {
        "id": "WSP4OGk1wE6a"
      },
      "source": [
        "Let's plot Q-Q plot to check normality"
      ]
    },
    {
      "cell_type": "code",
      "metadata": {
        "id": "GIcZhZ_2v4aj",
        "colab": {
          "base_uri": "https://localhost:8080/",
          "height": 398
        },
        "outputId": "7027afec-956c-4a7c-b52b-234b334b7d1d"
      },
      "source": [
        "# Q-Q plot for normality check of DL's arrival delay\n",
        "\n",
        "stats.probplot(np.log10(dl[\"arr_delay\"]+70), dist='norm', plot=plt)\n",
        "plt.show()"
      ],
      "execution_count": null,
      "outputs": [
        {
          "output_type": "display_data",
          "data": {
            "image/png": "[encoded data removed]",
            "text/plain": [
              "<Figure size 600x400 with 1 Axes>"
            ]
          },
          "metadata": {
            "tags": []
          }
        }
      ]
    },
    {
      "cell_type": "markdown",
      "metadata": {
        "id": "BelOZGRTfdjE"
      },
      "source": [
        "Q-Q plot shows most of the point on the line. Hence, the distribution can be considered fairly normal and this transformation can be successfully applied."
      ]
    },
    {
      "cell_type": "code",
      "metadata": {
        "id": "RHCWjDC5fbXN",
        "colab": {
          "base_uri": "https://localhost:8080/",
          "height": 195
        },
        "outputId": "a2e25fbe-0f7c-469e-8e9c-8882b7fe4659"
      },
      "source": [
        "#Applying the transformatiion and accepting the changes to the dataset.\n",
        "\n",
        "dl[\"tr_arr_delay\"]=np.log10(dl[\"arr_delay\"]+70)\n",
        "dl.head()"
      ],
      "execution_count": null,
      "outputs": [
        {
          "output_type": "execute_result",
          "data": {
            "text/html": [
              "<div>\n",
              "<style scoped>\n",
              "    .dataframe tbody tr th:only-of-type {\n",
              "        vertical-align: middle;\n",
              "    }\n",
              "\n",
              "    .dataframe tbody tr th {\n",
              "        vertical-align: top;\n",
              "    }\n",
              "\n",
              "    .dataframe thead th {\n",
              "        text-align: right;\n",
              "    }\n",
              "</style>\n",
              "<table border=\"1\" class=\"dataframe\">\n",
              "  <thead>\n",
              "    <tr style=\"text-align: right;\">\n",
              "      <th></th>\n",
              "      <th>carrier</th>\n",
              "      <th>arr_delay</th>\n",
              "      <th>sample_id</th>\n",
              "      <th>tr_arr_delay</th>\n",
              "    </tr>\n",
              "  </thead>\n",
              "  <tbody>\n",
              "    <tr>\n",
              "      <th>0</th>\n",
              "      <td>DL</td>\n",
              "      <td>-20.0</td>\n",
              "      <td>40</td>\n",
              "      <td>1.698970</td>\n",
              "    </tr>\n",
              "    <tr>\n",
              "      <th>1</th>\n",
              "      <td>DL</td>\n",
              "      <td>-35.0</td>\n",
              "      <td>120</td>\n",
              "      <td>1.544068</td>\n",
              "    </tr>\n",
              "    <tr>\n",
              "      <th>2</th>\n",
              "      <td>DL</td>\n",
              "      <td>2.0</td>\n",
              "      <td>140</td>\n",
              "      <td>1.857332</td>\n",
              "    </tr>\n",
              "    <tr>\n",
              "      <th>3</th>\n",
              "      <td>DL</td>\n",
              "      <td>18.0</td>\n",
              "      <td>160</td>\n",
              "      <td>1.944483</td>\n",
              "    </tr>\n",
              "    <tr>\n",
              "      <th>4</th>\n",
              "      <td>DL</td>\n",
              "      <td>15.0</td>\n",
              "      <td>240</td>\n",
              "      <td>1.929419</td>\n",
              "    </tr>\n",
              "  </tbody>\n",
              "</table>\n",
              "</div>"
            ],
            "text/plain": [
              "  carrier  arr_delay  sample_id  tr_arr_delay\n",
              "0      DL      -20.0         40      1.698970\n",
              "1      DL      -35.0        120      1.544068\n",
              "2      DL        2.0        140      1.857332\n",
              "3      DL       18.0        160      1.944483\n",
              "4      DL       15.0        240      1.929419"
            ]
          },
          "metadata": {
            "tags": []
          },
          "execution_count": 53
        }
      ]
    },
    {
      "cell_type": "markdown",
      "metadata": {
        "id": "GO0uGfMEhZrZ"
      },
      "source": [
        "Now, Applying same concepts to airline UA( transformations and checking skewness and kurtosis)."
      ]
    },
    {
      "cell_type": "code",
      "metadata": {
        "id": "SFKjBrAgjKHv",
        "colab": {
          "base_uri": "https://localhost:8080/",
          "height": 432
        },
        "outputId": "61204284-187f-4f59-ae09-3ee0de82fff2"
      },
      "source": [
        "#Distribution plot for transformed UA arrival delay \n",
        "\n",
        "sns.distplot((np.log10(ua[\"arr_delay\"]+70)))\n",
        "plt.show()"
      ],
      "execution_count": null,
      "outputs": [
        {
          "output_type": "stream",
          "text": [
            "/usr/local/lib/python3.6/dist-packages/seaborn/distributions.py:2557: FutureWarning: `distplot` is a deprecated function and will be removed in a future version. Please adapt your code to use either `displot` (a figure-level function with similar flexibility) or `histplot` (an axes-level function for histograms).\n",
            "  warnings.warn(msg, FutureWarning)\n"
          ],
          "name": "stderr"
        },
        {
          "output_type": "display_data",
          "data": {
            "image/png": "[encoded data removed]",
            "text/plain": [
              "<Figure size 600x400 with 1 Axes>"
            ]
          },
          "metadata": {
            "tags": []
          }
        }
      ]
    },
    {
      "cell_type": "code",
      "metadata": {
        "id": "_et1Vfdnl9ad",
        "colab": {
          "base_uri": "https://localhost:8080/",
          "height": 398
        },
        "outputId": "8d24b807-f365-4529-c7df-08536f2eabc4"
      },
      "source": [
        "# Q-Q plot for normality check of DL's arrival delay\n",
        "\n",
        "stats.probplot(np.log10(ua[\"arr_delay\"]+70), dist='norm', plot=plt)\n",
        "plt.show()"
      ],
      "execution_count": null,
      "outputs": [
        {
          "output_type": "display_data",
          "data": {
            "image/png": "[encoded data removed]",
            "text/plain": [
              "<Figure size 600x400 with 1 Axes>"
            ]
          },
          "metadata": {
            "tags": []
          }
        }
      ]
    },
    {
      "cell_type": "code",
      "metadata": {
        "id": "EJ4vfu1ChZIe",
        "colab": {
          "base_uri": "https://localhost:8080/"
        },
        "outputId": "29bfd35a-8d59-4157-b1b0-22d648091660"
      },
      "source": [
        "print(stats.skew(np.log10((ua[\"arr_delay\"]+70))))\n",
        "print(stats.kurtosis(np.log10((ua[\"arr_delay\"]+70))))"
      ],
      "execution_count": null,
      "outputs": [
        {
          "output_type": "stream",
          "text": [
            "-0.044351410956364405\n",
            "-0.7104687059860515\n"
          ],
          "name": "stdout"
        }
      ]
    },
    {
      "cell_type": "markdown",
      "metadata": {
        "id": "ZqSe1z6Pi1uR"
      },
      "source": [
        "Hence, because skewness and kurtosis are in acceptable range and Q-Q plot shows normality, we can successfully apply this transformation."
      ]
    },
    {
      "cell_type": "code",
      "metadata": {
        "id": "e26P3qygaQuj",
        "colab": {
          "base_uri": "https://localhost:8080/",
          "height": 195
        },
        "outputId": "8bfb5471-ffbe-4ab0-8adf-2c22e8a4cf5e"
      },
      "source": [
        "#Applying the transformatiion and accepting the changes to the dataset.\n",
        "\n",
        "ua[\"tr_arr_delay\"]=np.log10(ua[\"arr_delay\"]+70)\n",
        "ua.head()"
      ],
      "execution_count": null,
      "outputs": [
        {
          "output_type": "execute_result",
          "data": {
            "text/html": [
              "<div>\n",
              "<style scoped>\n",
              "    .dataframe tbody tr th:only-of-type {\n",
              "        vertical-align: middle;\n",
              "    }\n",
              "\n",
              "    .dataframe tbody tr th {\n",
              "        vertical-align: top;\n",
              "    }\n",
              "\n",
              "    .dataframe thead th {\n",
              "        text-align: right;\n",
              "    }\n",
              "</style>\n",
              "<table border=\"1\" class=\"dataframe\">\n",
              "  <thead>\n",
              "    <tr style=\"text-align: right;\">\n",
              "      <th></th>\n",
              "      <th>carrier</th>\n",
              "      <th>arr_delay</th>\n",
              "      <th>sample_id</th>\n",
              "      <th>tr_arr_delay</th>\n",
              "    </tr>\n",
              "  </thead>\n",
              "  <tbody>\n",
              "    <tr>\n",
              "      <th>0</th>\n",
              "      <td>UA</td>\n",
              "      <td>-26.0</td>\n",
              "      <td>20020</td>\n",
              "      <td>1.643453</td>\n",
              "    </tr>\n",
              "    <tr>\n",
              "      <th>1</th>\n",
              "      <td>UA</td>\n",
              "      <td>2.0</td>\n",
              "      <td>20040</td>\n",
              "      <td>1.857332</td>\n",
              "    </tr>\n",
              "    <tr>\n",
              "      <th>2</th>\n",
              "      <td>UA</td>\n",
              "      <td>1.0</td>\n",
              "      <td>20060</td>\n",
              "      <td>1.851258</td>\n",
              "    </tr>\n",
              "    <tr>\n",
              "      <th>3</th>\n",
              "      <td>UA</td>\n",
              "      <td>2.0</td>\n",
              "      <td>20080</td>\n",
              "      <td>1.857332</td>\n",
              "    </tr>\n",
              "    <tr>\n",
              "      <th>4</th>\n",
              "      <td>UA</td>\n",
              "      <td>6.0</td>\n",
              "      <td>20100</td>\n",
              "      <td>1.880814</td>\n",
              "    </tr>\n",
              "  </tbody>\n",
              "</table>\n",
              "</div>"
            ],
            "text/plain": [
              "  carrier  arr_delay  sample_id  tr_arr_delay\n",
              "0      UA      -26.0      20020      1.643453\n",
              "1      UA        2.0      20040      1.857332\n",
              "2      UA        1.0      20060      1.851258\n",
              "3      UA        2.0      20080      1.857332\n",
              "4      UA        6.0      20100      1.880814"
            ]
          },
          "metadata": {
            "tags": []
          },
          "execution_count": 57
        }
      ]
    },
    {
      "cell_type": "markdown",
      "metadata": {
        "id": "xzSmSPMxYUwS"
      },
      "source": [
        "Now that both ua and dl datasets have transformed normal distributions, we can define confidence interval value as below:"
      ]
    },
    {
      "cell_type": "code",
      "metadata": {
        "id": "blzjfMX1XJZ1",
        "colab": {
          "base_uri": "https://localhost:8080/"
        },
        "outputId": "b97d3628-7f34-456f-adeb-e81a5780d29b"
      },
      "source": [
        "# Print lower(5th percentie), mean(50th percentie) and upper(95th percentie) quantile values for the transformed UA dataset.\n",
        "\n",
        "transformed_lower_ua=ua[\"tr_arr_delay\"].quantile(0.05)\n",
        "transformed_mean_ua=ua[\"tr_arr_delay\"].mean()\n",
        "transformed_upper_ua=ua[\"tr_arr_delay\"].quantile(0.95)\n",
        "print(\"LowerValue “UA”: {}\".format(transformed_lower_ua))\n",
        "print('MeanValue “UA\":  {}'.format(transformed_mean_ua))\n",
        "print(\"UpperValues “UA”:{}\".format(transformed_upper_ua))"
      ],
      "execution_count": null,
      "outputs": [
        {
          "output_type": "stream",
          "text": [
            "LowerValue “UA”: 1.6020599913279625\n",
            "MeanValue “UA\":  1.7877088244242358\n",
            "UpperValues “UA”:1.9731278535996986\n"
          ],
          "name": "stdout"
        }
      ]
    },
    {
      "cell_type": "code",
      "metadata": {
        "id": "k_uRCgz0X-1-",
        "colab": {
          "base_uri": "https://localhost:8080/"
        },
        "outputId": "833152be-8ef3-4a28-9587-ebbb1504dc54"
      },
      "source": [
        "# Print lower(5th percentie), mean(50th percentie) and upper(95th percentie) quantile values for the transformed DL dataset.\n",
        "\n",
        "transformed_lower_dl=dl[\"tr_arr_delay\"].quantile(0.05)\n",
        "transformed_mean_dl=dl[\"tr_arr_delay\"].mean()\n",
        "transformed_upper_dl=dl[\"tr_arr_delay\"].quantile(0.95)\n",
        "print(\"LowerValue “DL”: {}\".format(transformed_lower_dl))\n",
        "print('MeanValue “DL\":  {}'.format(transformed_mean_dl))\n",
        "print(\"UpperValues “DL”:{}\".format(transformed_upper_dl))"
      ],
      "execution_count": null,
      "outputs": [
        {
          "output_type": "stream",
          "text": [
            "LowerValue “DL”: 1.6020599913279625\n",
            "MeanValue “DL\":  1.7720768014191275\n",
            "UpperValues “DL”:1.9294189257142929\n"
          ],
          "name": "stdout"
        }
      ]
    },
    {
      "cell_type": "code",
      "metadata": {
        "colab": {
          "base_uri": "https://localhost:8080/"
        },
        "id": "a_mkGKU_jv4C",
        "outputId": "052f5b35-24e4-446f-e95d-ccbbafa8e88e"
      },
      "source": [
        "dl[\"tr_arr_delay\"].std()"
      ],
      "execution_count": null,
      "outputs": [
        {
          "output_type": "execute_result",
          "data": {
            "text/plain": [
              "0.09959589104956004"
            ]
          },
          "metadata": {
            "tags": []
          },
          "execution_count": 62
        }
      ]
    },
    {
      "cell_type": "markdown",
      "metadata": {
        "id": "QDz_5YJJ1PQq"
      },
      "source": [
        "# Task 8(Applying the unpaired t-test)\n",
        "\n",
        "### Que: After these set of previous calculations it was requested that you take the T-TEST concept and apply it on your 2 groups of data (“means”) to let your team knows if Delta Airlines (DL) flights are delayed more than United Airlines (UA) flights ?"
      ]
    },
    {
      "cell_type": "markdown",
      "metadata": {
        "id": "maIOFgsv2JIh"
      },
      "source": [
        "Null Hypothesis:The means are not that different.<br>\n",
        "Alternative hypothesis: There is a significant difference in the means of flights.\n",
        "\n"
      ]
    },
    {
      "cell_type": "markdown",
      "metadata": {
        "id": "40rIHPFLAqpK"
      },
      "source": [
        "Because, two samples( UA and DL airline's arrival delays) are not dependent on each other, we are going to apply two sample independent t-test to the data to identify if the alternative hypothesis holds true and the difference in delays is statistically significant."
      ]
    },
    {
      "cell_type": "code",
      "metadata": {
        "colab": {
          "base_uri": "https://localhost:8080/"
        },
        "id": "_lFx6BW9n2q_",
        "outputId": "0e32e94b-1f5e-4bfa-8964-3d7f34f5a0b7"
      },
      "source": [
        "stats.ttest_ind(dl['tr_arr_delay'],ua['tr_arr_delay'],equal_var=False)"
      ],
      "execution_count": null,
      "outputs": [
        {
          "output_type": "execute_result",
          "data": {
            "text/plain": [
              "Ttest_indResult(statistic=-3.042493352141039, pvalue=0.0023833610233717673)"
            ]
          },
          "metadata": {
            "tags": []
          },
          "execution_count": 70
        }
      ]
    },
    {
      "cell_type": "code",
      "metadata": {
        "id": "WlmBMSLnlP7T"
      },
      "source": [
        "from statsmodels.stats.weightstats import ttest_ind"
      ],
      "execution_count": null,
      "outputs": []
    },
    {
      "cell_type": "code",
      "metadata": {
        "colab": {
          "base_uri": "https://localhost:8080/"
        },
        "id": "IOFnq8KblgZW",
        "outputId": "89d76e35-a7fd-44b8-a87b-11d1d6e56336"
      },
      "source": [
        "0.\r\n",
        "069/t2, p2, df = ttest_ind(dl['tr_arr_delay'],ua['tr_arr_delay'],alternative='larger')\r\n",
        "p29"
      ],
      "execution_count": null,
      "outputs": [
        {
          "output_type": "execute_result",
          "data": {
            "text/plain": [
              "0.9987995214575831"
            ]
          },
          "metadata": {
            "tags": []
          },
          "execution_count": 69
        }
      ]
    },
    {
      "cell_type": "markdown",
      "metadata": {
        "id": "WxTK8fXP4Sdj"
      },
      "source": [
        "For one tailed t-test p value= 0.998 > 0.05(signifiance level alpha) \n",
        "\n",
        "Hence, we can not reject the null hypothesis and the results are statistically insignificant. \n",
        "\n",
        "So, We can not make sure if the average delay in DL is greater than delay in UA in the population."
      ]
    },
    {
      "cell_type": "code",
      "metadata": {
        "id": "pk1dJFW9pN94"
      },
      "source": [
        ""
      ],
      "execution_count": null,
      "outputs": []
    }
  ]
}